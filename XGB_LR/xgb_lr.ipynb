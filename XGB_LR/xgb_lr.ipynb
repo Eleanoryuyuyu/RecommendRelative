{
 "cells": [
  {
   "cell_type": "code",
   "execution_count": 1,
   "metadata": {},
   "outputs": [],
   "source": [
    "import xgboost as xgb\n",
    "from sklearn.model_selection import train_test_split,GridSearchCV\n",
    "from sklearn.linear_model import LogisticRegression\n",
    "from sklearn.metrics import roc_curve, auc, roc_auc_score\n",
    "from sklearn.preprocessing import  OneHotEncoder\n",
    "from xgboost.sklearn import XGBClassifier\n",
    "import matplotlib.pyplot as plt\n",
    "import numpy as np\n",
    "import pandas as pd\n",
    "import time, os, random, sys\n",
    "import math\n",
    "import requests\n",
    "from sqlalchemy import create_engine\n",
    "import boto3\n",
    "from boto3 import client\n",
    "import logging\n",
    "from collections import defaultdict,Counter\n",
    "import gc"
   ]
  },
  {
   "cell_type": "code",
   "execution_count": 2,
   "metadata": {},
   "outputs": [],
   "source": [
    "def typicalsampling(group,typicalNDict):\n",
    "    name = group.name\n",
    "    f = typicalNDict[name]\n",
    "    return group.sample(frac = f)\n"
   ]
  },
  {
   "cell_type": "code",
   "execution_count": 5,
   "metadata": {},
   "outputs": [
    {
     "name": "stdout",
     "output_type": "stream",
     "text": [
      "0\n",
      "1\n",
      "2\n",
      "3\n",
      "4\n",
      "5\n",
      "6\n",
      "7\n",
      "8\n",
      "9\n",
      "10\n",
      "11\n",
      "12\n",
      "13\n",
      "14\n",
      "15\n",
      "16\n",
      "17\n",
      "18\n",
      "19\n",
      "20\n",
      "21\n",
      "22\n",
      "23\n",
      "24\n",
      "25\n",
      "26\n",
      "27\n",
      "28\n",
      "29\n",
      "30\n",
      "31\n",
      "32\n",
      "33\n",
      "34\n",
      "35\n",
      "36\n",
      "37\n",
      "38\n",
      "39\n",
      "40\n",
      "41\n",
      "42\n",
      "43\n",
      "44\n",
      "45\n",
      "46\n"
     ]
    },
    {
     "data": {
      "text/html": [
       "<div>\n",
       "<style scoped>\n",
       "    .dataframe tbody tr th:only-of-type {\n",
       "        vertical-align: middle;\n",
       "    }\n",
       "\n",
       "    .dataframe tbody tr th {\n",
       "        vertical-align: top;\n",
       "    }\n",
       "\n",
       "    .dataframe thead th {\n",
       "        text-align: right;\n",
       "    }\n",
       "</style>\n",
       "<table border=\"1\" class=\"dataframe\">\n",
       "  <thead>\n",
       "    <tr style=\"text-align: right;\">\n",
       "      <th></th>\n",
       "      <th>log_date</th>\n",
       "      <th>pid</th>\n",
       "      <th>catid1_index</th>\n",
       "      <th>catid2_index</th>\n",
       "      <th>catid3_index</th>\n",
       "      <th>list_price</th>\n",
       "      <th>discount</th>\n",
       "      <th>is_cat_male</th>\n",
       "      <th>is_cat_female</th>\n",
       "      <th>imp_1d</th>\n",
       "      <th>...</th>\n",
       "      <th>wishlist_7d_u</th>\n",
       "      <th>purchase_7d_u</th>\n",
       "      <th>atv_u</th>\n",
       "      <th>real_atv_u</th>\n",
       "      <th>real_pay_u</th>\n",
       "      <th>total_orders_u</th>\n",
       "      <th>refund_cnt_u</th>\n",
       "      <th>comment_cnt_u</th>\n",
       "      <th>cnt</th>\n",
       "      <th>label</th>\n",
       "    </tr>\n",
       "  </thead>\n",
       "  <tbody>\n",
       "    <tr>\n",
       "      <td>0</td>\n",
       "      <td>2019-09-07</td>\n",
       "      <td>4298998</td>\n",
       "      <td>55</td>\n",
       "      <td>522</td>\n",
       "      <td>3561</td>\n",
       "      <td>2.93</td>\n",
       "      <td>0.79</td>\n",
       "      <td>1</td>\n",
       "      <td>0</td>\n",
       "      <td>2643</td>\n",
       "      <td>...</td>\n",
       "      <td>3</td>\n",
       "      <td>5</td>\n",
       "      <td>8.406667</td>\n",
       "      <td>8.406667</td>\n",
       "      <td>50.44</td>\n",
       "      <td>6</td>\n",
       "      <td>0</td>\n",
       "      <td>0</td>\n",
       "      <td>1</td>\n",
       "      <td>0</td>\n",
       "    </tr>\n",
       "    <tr>\n",
       "      <td>1</td>\n",
       "      <td>2019-09-07</td>\n",
       "      <td>3272551</td>\n",
       "      <td>20</td>\n",
       "      <td>604</td>\n",
       "      <td>4005</td>\n",
       "      <td>34.86</td>\n",
       "      <td>0.51</td>\n",
       "      <td>1</td>\n",
       "      <td>0</td>\n",
       "      <td>78589</td>\n",
       "      <td>...</td>\n",
       "      <td>0</td>\n",
       "      <td>1</td>\n",
       "      <td>4.150000</td>\n",
       "      <td>4.150000</td>\n",
       "      <td>12.45</td>\n",
       "      <td>3</td>\n",
       "      <td>0</td>\n",
       "      <td>0</td>\n",
       "      <td>1</td>\n",
       "      <td>0</td>\n",
       "    </tr>\n",
       "    <tr>\n",
       "      <td>2</td>\n",
       "      <td>2019-09-07</td>\n",
       "      <td>2158940</td>\n",
       "      <td>55</td>\n",
       "      <td>329</td>\n",
       "      <td>560</td>\n",
       "      <td>4.70</td>\n",
       "      <td>0.10</td>\n",
       "      <td>1</td>\n",
       "      <td>0</td>\n",
       "      <td>68350</td>\n",
       "      <td>...</td>\n",
       "      <td>2</td>\n",
       "      <td>2</td>\n",
       "      <td>5.505000</td>\n",
       "      <td>5.505000</td>\n",
       "      <td>11.01</td>\n",
       "      <td>2</td>\n",
       "      <td>0</td>\n",
       "      <td>0</td>\n",
       "      <td>1</td>\n",
       "      <td>0</td>\n",
       "    </tr>\n",
       "    <tr>\n",
       "      <td>3</td>\n",
       "      <td>2019-09-07</td>\n",
       "      <td>3947811</td>\n",
       "      <td>34</td>\n",
       "      <td>688</td>\n",
       "      <td>617</td>\n",
       "      <td>4.65</td>\n",
       "      <td>0.35</td>\n",
       "      <td>0</td>\n",
       "      <td>0</td>\n",
       "      <td>586</td>\n",
       "      <td>...</td>\n",
       "      <td>21</td>\n",
       "      <td>0</td>\n",
       "      <td>5.110000</td>\n",
       "      <td>5.110000</td>\n",
       "      <td>5.11</td>\n",
       "      <td>1</td>\n",
       "      <td>0</td>\n",
       "      <td>0</td>\n",
       "      <td>1</td>\n",
       "      <td>0</td>\n",
       "    </tr>\n",
       "    <tr>\n",
       "      <td>4</td>\n",
       "      <td>2019-09-07</td>\n",
       "      <td>2932888</td>\n",
       "      <td>55</td>\n",
       "      <td>522</td>\n",
       "      <td>606</td>\n",
       "      <td>7.02</td>\n",
       "      <td>0.55</td>\n",
       "      <td>1</td>\n",
       "      <td>0</td>\n",
       "      <td>15173</td>\n",
       "      <td>...</td>\n",
       "      <td>25</td>\n",
       "      <td>4</td>\n",
       "      <td>16.997500</td>\n",
       "      <td>17.008750</td>\n",
       "      <td>136.07</td>\n",
       "      <td>8</td>\n",
       "      <td>0</td>\n",
       "      <td>12</td>\n",
       "      <td>1</td>\n",
       "      <td>0</td>\n",
       "    </tr>\n",
       "  </tbody>\n",
       "</table>\n",
       "<p>5 rows × 119 columns</p>\n",
       "</div>"
      ],
      "text/plain": [
       "     log_date      pid  catid1_index  catid2_index  catid3_index  list_price  \\\n",
       "0  2019-09-07  4298998            55           522          3561        2.93   \n",
       "1  2019-09-07  3272551            20           604          4005       34.86   \n",
       "2  2019-09-07  2158940            55           329           560        4.70   \n",
       "3  2019-09-07  3947811            34           688           617        4.65   \n",
       "4  2019-09-07  2932888            55           522           606        7.02   \n",
       "\n",
       "   discount  is_cat_male  is_cat_female  imp_1d  ...  wishlist_7d_u  \\\n",
       "0      0.79            1              0    2643  ...              3   \n",
       "1      0.51            1              0   78589  ...              0   \n",
       "2      0.10            1              0   68350  ...              2   \n",
       "3      0.35            0              0     586  ...             21   \n",
       "4      0.55            1              0   15173  ...             25   \n",
       "\n",
       "   purchase_7d_u      atv_u  real_atv_u  real_pay_u  total_orders_u  \\\n",
       "0              5   8.406667    8.406667       50.44               6   \n",
       "1              1   4.150000    4.150000       12.45               3   \n",
       "2              2   5.505000    5.505000       11.01               2   \n",
       "3              0   5.110000    5.110000        5.11               1   \n",
       "4              4  16.997500   17.008750      136.07               8   \n",
       "\n",
       "   refund_cnt_u  comment_cnt_u  cnt  label  \n",
       "0             0              0    1      0  \n",
       "1             0              0    1      0  \n",
       "2             0              0    1      0  \n",
       "3             0              0    1      0  \n",
       "4             0             12    1      0  \n",
       "\n",
       "[5 rows x 119 columns]"
      ]
     },
     "execution_count": 5,
     "metadata": {},
     "output_type": "execute_result"
    }
   ],
   "source": [
    "typicalNDict ={\n",
    "    0:0.001,\n",
    "    1:0.003\n",
    "}\n",
    "\n",
    "tmp_df = pd.DataFrame()\n",
    "for i in range(47):\n",
    "    print(i)\n",
    "    tmp = pd.read_csv('s3://',sep='|')\n",
    "   \n",
    "#     print(tmp.head())\n",
    "    tmp_sample = tmp.groupby('label', group_keys=False).apply(typicalsampling,typicalNDict)\n",
    "    tmp_df = pd.concat([tmp_df,tmp_sample],ignore_index=True)\n",
    "    del tmp_sample\n",
    "    gc.collect()\n",
    "    \n",
    "\n",
    "tmp_df.head()   \n",
    "\n"
   ]
  },
  {
   "cell_type": "code",
   "execution_count": 4,
   "metadata": {},
   "outputs": [
    {
     "name": "stdout",
     "output_type": "stream",
     "text": [
      "<class 'pandas.core.frame.DataFrame'>\n",
      "Int64Index: 18800 entries, 0 to 18799\n",
      "Columns: 119 entries, log_date to cnt\n",
      "dtypes: float64(43), int64(75), object(1)\n",
      "memory usage: 17.2+ MB\n"
     ]
    },
    {
     "data": {
      "text/plain": [
       "((18800, 119), None)"
      ]
     },
     "execution_count": 4,
     "metadata": {},
     "output_type": "execute_result"
    }
   ],
   "source": [
    "tmp_df = tmp_df.drop_duplicates()\n",
    "tmp_df.shape,tmp_df.info()"
   ]
  },
  {
   "cell_type": "code",
   "execution_count": 6,
   "metadata": {},
   "outputs": [
    {
     "data": {
      "text/plain": [
       "Index(['log_date', 'pid', 'catid1_index', 'catid2_index', 'catid3_index',\n",
       "       'list_price', 'discount', 'is_cat_male', 'is_cat_female', 'imp_1d',\n",
       "       ...\n",
       "       'wishlist_7d_u', 'purchase_7d_u', 'atv_u', 'real_atv_u', 'real_pay_u',\n",
       "       'total_orders_u', 'refund_cnt_u', 'comment_cnt_u', 'cnt', 'label'],\n",
       "      dtype='object', length=119)"
      ]
     },
     "execution_count": 6,
     "metadata": {},
     "output_type": "execute_result"
    }
   ],
   "source": [
    "tmp_df.columns"
   ]
  },
  {
   "cell_type": "code",
   "execution_count": 14,
   "metadata": {},
   "outputs": [
    {
     "data": {
      "text/plain": [
       "[{'name': 'log_date', 'type': 'Float'},\n",
       " {'name': 'pid', 'type': 'Float'},\n",
       " {'name': 'catid1_index', 'type': 'Float'},\n",
       " {'name': 'catid2_index', 'type': 'Float'},\n",
       " {'name': 'catid3_index', 'type': 'Float'},\n",
       " {'name': 'list_price', 'type': 'Float'},\n",
       " {'name': 'discount', 'type': 'Float'},\n",
       " {'name': 'is_cat_male', 'type': 'Float'},\n",
       " {'name': 'is_cat_female', 'type': 'Float'},\n",
       " {'name': 'imp_1d', 'type': 'Float'}]"
      ]
     },
     "execution_count": 14,
     "metadata": {},
     "output_type": "execute_result"
    }
   ],
   "source": [
    "res = []\n",
    "for col in tmp_df.columns.tolist():\n",
    "    new_dic = {}\n",
    "    new_dic[\"name\"] = str(col)\n",
    "    new_dic[\"type\"] = \"Float\"\n",
    "    res.append(new_dic)\n",
    "res[:10]"
   ]
  },
  {
   "cell_type": "code",
   "execution_count": 16,
   "metadata": {},
   "outputs": [],
   "source": [
    "with open(\"colname.txt\", \"w\") as f:\n",
    "    for line in res:\n",
    "        f.write(str(line)+\",\")\n",
    "        f.write('\\n')#显示写入换行\n"
   ]
  },
  {
   "cell_type": "code",
   "execution_count": 5,
   "metadata": {},
   "outputs": [
    {
     "data": {
      "image/png": "[encoded data removed]",
      "text/plain": [
       "<Figure size 720x576 with 1 Axes>"
      ]
     },
     "metadata": {
      "needs_background": "light"
     },
     "output_type": "display_data"
    }
   ],
   "source": [
    "import seaborn as sns\n",
    "f,ax=plt.subplots(figsize=(10,8))\n",
    "sns.boxplot(y='ctr_1d',data=tmp_df,ax=ax)\n",
    "plt.show()"
   ]
  },
  {
   "cell_type": "code",
   "execution_count": 10,
   "metadata": {},
   "outputs": [
    {
     "data": {
      "text/html": [
       "<div>\n",
       "<style scoped>\n",
       "    .dataframe tbody tr th:only-of-type {\n",
       "        vertical-align: middle;\n",
       "    }\n",
       "\n",
       "    .dataframe tbody tr th {\n",
       "        vertical-align: top;\n",
       "    }\n",
       "\n",
       "    .dataframe thead th {\n",
       "        text-align: right;\n",
       "    }\n",
       "</style>\n",
       "<table border=\"1\" class=\"dataframe\">\n",
       "  <thead>\n",
       "    <tr style=\"text-align: right;\">\n",
       "      <th></th>\n",
       "      <th>pid</th>\n",
       "      <th>catid1</th>\n",
       "      <th>catid2</th>\n",
       "      <th>catid3</th>\n",
       "      <th>list_price</th>\n",
       "      <th>discount</th>\n",
       "      <th>is_cat_male</th>\n",
       "      <th>is_cat_female</th>\n",
       "      <th>imp_1d</th>\n",
       "      <th>imp_uv_1d</th>\n",
       "      <th>...</th>\n",
       "      <th>wishlist_7d_u</th>\n",
       "      <th>purchase_7d_u</th>\n",
       "      <th>atv_u</th>\n",
       "      <th>real_atv_u</th>\n",
       "      <th>real_pay_u</th>\n",
       "      <th>total_orders_u</th>\n",
       "      <th>refund_cnt_u</th>\n",
       "      <th>comment_cnt_u</th>\n",
       "      <th>label</th>\n",
       "      <th>cnt</th>\n",
       "    </tr>\n",
       "  </thead>\n",
       "  <tbody>\n",
       "    <tr>\n",
       "      <th>count</th>\n",
       "      <td>1.880000e+04</td>\n",
       "      <td>18800.000000</td>\n",
       "      <td>18800.000000</td>\n",
       "      <td>1.880000e+04</td>\n",
       "      <td>18800.000000</td>\n",
       "      <td>18800.000000</td>\n",
       "      <td>18800.000000</td>\n",
       "      <td>18800.000000</td>\n",
       "      <td>18800.000000</td>\n",
       "      <td>18800.000000</td>\n",
       "      <td>...</td>\n",
       "      <td>18800.000000</td>\n",
       "      <td>18800.000000</td>\n",
       "      <td>18800.000000</td>\n",
       "      <td>18800.000000</td>\n",
       "      <td>18800.000000</td>\n",
       "      <td>18800.000000</td>\n",
       "      <td>18800.000000</td>\n",
       "      <td>18800.000000</td>\n",
       "      <td>18800.000000</td>\n",
       "      <td>18800.000000</td>\n",
       "    </tr>\n",
       "    <tr>\n",
       "      <th>mean</th>\n",
       "      <td>2.277920e+06</td>\n",
       "      <td>606.863298</td>\n",
       "      <td>60697.054362</td>\n",
       "      <td>4.224523e+07</td>\n",
       "      <td>8.207715</td>\n",
       "      <td>0.377036</td>\n",
       "      <td>0.345691</td>\n",
       "      <td>0.138191</td>\n",
       "      <td>36559.299309</td>\n",
       "      <td>49565.476064</td>\n",
       "      <td>...</td>\n",
       "      <td>5.915904</td>\n",
       "      <td>2.482234</td>\n",
       "      <td>9.629540</td>\n",
       "      <td>9.605550</td>\n",
       "      <td>66.692273</td>\n",
       "      <td>4.813936</td>\n",
       "      <td>0.001330</td>\n",
       "      <td>1.041596</td>\n",
       "      <td>0.387500</td>\n",
       "      <td>2.472234</td>\n",
       "    </tr>\n",
       "    <tr>\n",
       "      <th>std</th>\n",
       "      <td>1.272110e+06</td>\n",
       "      <td>6.922061</td>\n",
       "      <td>689.205364</td>\n",
       "      <td>2.804925e+07</td>\n",
       "      <td>10.411284</td>\n",
       "      <td>0.299285</td>\n",
       "      <td>0.475606</td>\n",
       "      <td>0.345110</td>\n",
       "      <td>44246.470827</td>\n",
       "      <td>84817.051936</td>\n",
       "      <td>...</td>\n",
       "      <td>14.797364</td>\n",
       "      <td>3.879619</td>\n",
       "      <td>10.795043</td>\n",
       "      <td>10.699141</td>\n",
       "      <td>175.987270</td>\n",
       "      <td>5.738801</td>\n",
       "      <td>0.037875</td>\n",
       "      <td>2.901943</td>\n",
       "      <td>0.487192</td>\n",
       "      <td>6.456166</td>\n",
       "    </tr>\n",
       "    <tr>\n",
       "      <th>min</th>\n",
       "      <td>9.175000e+03</td>\n",
       "      <td>601.000000</td>\n",
       "      <td>60101.000000</td>\n",
       "      <td>-1.000000e+00</td>\n",
       "      <td>1.050000</td>\n",
       "      <td>0.000000</td>\n",
       "      <td>0.000000</td>\n",
       "      <td>0.000000</td>\n",
       "      <td>0.000000</td>\n",
       "      <td>0.000000</td>\n",
       "      <td>...</td>\n",
       "      <td>0.000000</td>\n",
       "      <td>0.000000</td>\n",
       "      <td>0.000000</td>\n",
       "      <td>0.000000</td>\n",
       "      <td>0.000000</td>\n",
       "      <td>0.000000</td>\n",
       "      <td>0.000000</td>\n",
       "      <td>0.000000</td>\n",
       "      <td>0.000000</td>\n",
       "      <td>1.000000</td>\n",
       "    </tr>\n",
       "    <tr>\n",
       "      <th>25%</th>\n",
       "      <td>1.155264e+06</td>\n",
       "      <td>601.000000</td>\n",
       "      <td>60130.000000</td>\n",
       "      <td>-1.000000e+00</td>\n",
       "      <td>3.060000</td>\n",
       "      <td>0.040000</td>\n",
       "      <td>0.000000</td>\n",
       "      <td>0.000000</td>\n",
       "      <td>5303.750000</td>\n",
       "      <td>4333.750000</td>\n",
       "      <td>...</td>\n",
       "      <td>0.000000</td>\n",
       "      <td>0.000000</td>\n",
       "      <td>3.405000</td>\n",
       "      <td>3.415536</td>\n",
       "      <td>6.407500</td>\n",
       "      <td>1.000000</td>\n",
       "      <td>0.000000</td>\n",
       "      <td>0.000000</td>\n",
       "      <td>0.000000</td>\n",
       "      <td>1.000000</td>\n",
       "    </tr>\n",
       "    <tr>\n",
       "      <th>50%</th>\n",
       "      <td>2.277475e+06</td>\n",
       "      <td>602.000000</td>\n",
       "      <td>60224.000000</td>\n",
       "      <td>6.021416e+07</td>\n",
       "      <td>5.580000</td>\n",
       "      <td>0.390000</td>\n",
       "      <td>0.000000</td>\n",
       "      <td>0.000000</td>\n",
       "      <td>22074.000000</td>\n",
       "      <td>16813.000000</td>\n",
       "      <td>...</td>\n",
       "      <td>0.000000</td>\n",
       "      <td>1.000000</td>\n",
       "      <td>6.695227</td>\n",
       "      <td>6.742500</td>\n",
       "      <td>24.300000</td>\n",
       "      <td>3.000000</td>\n",
       "      <td>0.000000</td>\n",
       "      <td>0.000000</td>\n",
       "      <td>0.000000</td>\n",
       "      <td>1.000000</td>\n",
       "    </tr>\n",
       "    <tr>\n",
       "      <th>75%</th>\n",
       "      <td>3.359416e+06</td>\n",
       "      <td>612.000000</td>\n",
       "      <td>61202.000000</td>\n",
       "      <td>6.120101e+07</td>\n",
       "      <td>10.250000</td>\n",
       "      <td>0.640000</td>\n",
       "      <td>1.000000</td>\n",
       "      <td>0.000000</td>\n",
       "      <td>48616.500000</td>\n",
       "      <td>57425.250000</td>\n",
       "      <td>...</td>\n",
       "      <td>4.000000</td>\n",
       "      <td>3.000000</td>\n",
       "      <td>12.540580</td>\n",
       "      <td>12.540000</td>\n",
       "      <td>65.612500</td>\n",
       "      <td>6.000000</td>\n",
       "      <td>0.000000</td>\n",
       "      <td>0.000000</td>\n",
       "      <td>1.000000</td>\n",
       "      <td>1.000000</td>\n",
       "    </tr>\n",
       "    <tr>\n",
       "      <th>max</th>\n",
       "      <td>4.605571e+06</td>\n",
       "      <td>647.000000</td>\n",
       "      <td>64714.000000</td>\n",
       "      <td>6.471408e+07</td>\n",
       "      <td>377.240000</td>\n",
       "      <td>1.000000</td>\n",
       "      <td>1.000000</td>\n",
       "      <td>1.000000</td>\n",
       "      <td>188265.000000</td>\n",
       "      <td>779253.000000</td>\n",
       "      <td>...</td>\n",
       "      <td>132.000000</td>\n",
       "      <td>23.000000</td>\n",
       "      <td>190.970000</td>\n",
       "      <td>190.970000</td>\n",
       "      <td>7615.720000</td>\n",
       "      <td>37.000000</td>\n",
       "      <td>2.000000</td>\n",
       "      <td>22.000000</td>\n",
       "      <td>1.000000</td>\n",
       "      <td>50.000000</td>\n",
       "    </tr>\n",
       "  </tbody>\n",
       "</table>\n",
       "<p>8 rows × 118 columns</p>\n",
       "</div>"
      ],
      "text/plain": [
       "                pid        catid1        catid2        catid3    list_price  \\\n",
       "count  1.880000e+04  18800.000000  18800.000000  1.880000e+04  18800.000000   \n",
       "mean   2.277920e+06    606.863298  60697.054362  4.224523e+07      8.207715   \n",
       "std    1.272110e+06      6.922061    689.205364  2.804925e+07     10.411284   \n",
       "min    9.175000e+03    601.000000  60101.000000 -1.000000e+00      1.050000   \n",
       "25%    1.155264e+06    601.000000  60130.000000 -1.000000e+00      3.060000   \n",
       "50%    2.277475e+06    602.000000  60224.000000  6.021416e+07      5.580000   \n",
       "75%    3.359416e+06    612.000000  61202.000000  6.120101e+07     10.250000   \n",
       "max    4.605571e+06    647.000000  64714.000000  6.471408e+07    377.240000   \n",
       "\n",
       "           discount   is_cat_male  is_cat_female         imp_1d  \\\n",
       "count  18800.000000  18800.000000   18800.000000   18800.000000   \n",
       "mean       0.377036      0.345691       0.138191   36559.299309   \n",
       "std        0.299285      0.475606       0.345110   44246.470827   \n",
       "min        0.000000      0.000000       0.000000       0.000000   \n",
       "25%        0.040000      0.000000       0.000000    5303.750000   \n",
       "50%        0.390000      0.000000       0.000000   22074.000000   \n",
       "75%        0.640000      1.000000       0.000000   48616.500000   \n",
       "max        1.000000      1.000000       1.000000  188265.000000   \n",
       "\n",
       "           imp_uv_1d      ...       wishlist_7d_u  purchase_7d_u  \\\n",
       "count   18800.000000      ...        18800.000000   18800.000000   \n",
       "mean    49565.476064      ...            5.915904       2.482234   \n",
       "std     84817.051936      ...           14.797364       3.879619   \n",
       "min         0.000000      ...            0.000000       0.000000   \n",
       "25%      4333.750000      ...            0.000000       0.000000   \n",
       "50%     16813.000000      ...            0.000000       1.000000   \n",
       "75%     57425.250000      ...            4.000000       3.000000   \n",
       "max    779253.000000      ...          132.000000      23.000000   \n",
       "\n",
       "              atv_u    real_atv_u    real_pay_u  total_orders_u  refund_cnt_u  \\\n",
       "count  18800.000000  18800.000000  18800.000000    18800.000000  18800.000000   \n",
       "mean       9.629540      9.605550     66.692273        4.813936      0.001330   \n",
       "std       10.795043     10.699141    175.987270        5.738801      0.037875   \n",
       "min        0.000000      0.000000      0.000000        0.000000      0.000000   \n",
       "25%        3.405000      3.415536      6.407500        1.000000      0.000000   \n",
       "50%        6.695227      6.742500     24.300000        3.000000      0.000000   \n",
       "75%       12.540580     12.540000     65.612500        6.000000      0.000000   \n",
       "max      190.970000    190.970000   7615.720000       37.000000      2.000000   \n",
       "\n",
       "       comment_cnt_u         label           cnt  \n",
       "count   18800.000000  18800.000000  18800.000000  \n",
       "mean        1.041596      0.387500      2.472234  \n",
       "std         2.901943      0.487192      6.456166  \n",
       "min         0.000000      0.000000      1.000000  \n",
       "25%         0.000000      0.000000      1.000000  \n",
       "50%         0.000000      0.000000      1.000000  \n",
       "75%         0.000000      1.000000      1.000000  \n",
       "max        22.000000      1.000000     50.000000  \n",
       "\n",
       "[8 rows x 118 columns]"
      ]
     },
     "execution_count": 10,
     "metadata": {},
     "output_type": "execute_result"
    }
   ],
   "source": [
    "cols = [  'imp_1d','click_1d',\n",
    "          'ctr_1d','acr_1d','wr_1d',\n",
    "          'sales_1d','orders_1d','buyers_1d','buyers_male_1d','buyers_female_1d',\n",
    "          'buyers_neutral_1d','male_rate_1d','female_rate_1d','neutral_rate_1d',\n",
    "          'imp_7d','click_7d','ctr_7d','acr_7d','wr_7d','sales_7d','sales',\n",
    "          'orders_7d','orders','buyers_7d','buyers_male_7d','buyers_female_7d',\n",
    "          'buyers_neutral_7d','buyers','male_rate_7d','female_rate_7d','neutral_rate_7d',\n",
    "          'visit_3d_u','visit_7d_u','imp_7d_u','click_7d_u','add_7d_u','wishlist_7d_u','purchase_7d_u',\n",
    "          'total_orders_u','comment_cnt_u','cnt']\n",
    "for col in cols: \n",
    "    tmp_df.loc[((tmp_df[col]-tmp_df[col].mean()).abs()>3*tmp_df[col].std()),col]= np.sign(tmp_df[col])*tmp_df[col].quantile(0.5)\n",
    "tmp_df.describe()"
   ]
  },
  {
   "cell_type": "code",
   "execution_count": 11,
   "metadata": {},
   "outputs": [
    {
     "data": {
      "text/plain": [
       "0    11515\n",
       "1     7285\n",
       "Name: label, dtype: int64"
      ]
     },
     "execution_count": 11,
     "metadata": {},
     "output_type": "execute_result"
    }
   ],
   "source": [
    "tmp_df[\"label\"].value_counts()"
   ]
  },
  {
   "cell_type": "code",
   "execution_count": 7,
   "metadata": {},
   "outputs": [],
   "source": [
    "today = pd.datetime.now()"
   ]
  },
  {
   "cell_type": "code",
   "execution_count": 8,
   "metadata": {},
   "outputs": [],
   "source": [
    "tmp_df[\"lst_visit_ts\"] = tmp_df[\"lst_visit\"].apply(lambda x: math.exp(-1.0*(today-pd.to_datetime(x)).days/30))\n",
    "tmp_df[\"lst_add_ts\"] = tmp_df[\"lst_add\"].apply(lambda x:math.exp(-1.0*(today-pd.to_datetime(x)).days/30))\n",
    "tmp_df[\"lst_wishlist_ts\"] = tmp_df[\"lst_wishlist\"].apply(lambda x:math.exp(-1.0*(today-pd.to_datetime(x)).days/30))\n",
    "tmp_df[\"lst_product_buynow_ts\"] = tmp_df[\"lst_product_buynow\"].apply(lambda x: math.exp(-1.0*(today-pd.to_datetime(x)).days/30))\n",
    "tmp_df[\"lst_cart_buynow_ts\"] = tmp_df[\"lst_cart_buynow\"].apply(lambda x:math.exp(-1.0*(today-pd.to_datetime(x)).days/30))\n",
    "tmp_df[\"lst_buynow_ts\"] = tmp_df[\"lst_buynow\"].apply(lambda x:math.exp(-1.0*(today-pd.to_datetime(x)).days/30))"
   ]
  },
  {
   "cell_type": "code",
   "execution_count": 9,
   "metadata": {},
   "outputs": [
    {
     "data": {
      "text/plain": [
       "(16779, 161)"
      ]
     },
     "execution_count": 9,
     "metadata": {},
     "output_type": "execute_result"
    }
   ],
   "source": [
    "tmp_df.drop(['lst_visit', 'lst_add', 'lst_wishlist', 'lst_product_buynow', 'lst_cart_buynow', 'lst_buynow'], axis=1, inplace=True)\n",
    "tmp_df.shape"
   ]
  },
  {
   "cell_type": "code",
   "execution_count": 12,
   "metadata": {},
   "outputs": [
    {
     "data": {
      "text/plain": [
       "Index(['log_date', 'pid', 'catid1', 'catid2', 'catid3', 'list_price',\n",
       "       'discount', 'is_cat_male', 'is_cat_female', 'imp_1d',\n",
       "       ...\n",
       "       'wishlist_7d_u', 'purchase_7d_u', 'atv_u', 'real_atv_u', 'real_pay_u',\n",
       "       'total_orders_u', 'refund_cnt_u', 'comment_cnt_u', 'label', 'cnt'],\n",
       "      dtype='object', length=119)"
      ]
     },
     "execution_count": 12,
     "metadata": {},
     "output_type": "execute_result"
    }
   ],
   "source": [
    "tmp_df.columns"
   ]
  },
  {
   "cell_type": "code",
   "execution_count": 13,
   "metadata": {},
   "outputs": [
    {
     "data": {
      "text/html": [
       "<div>\n",
       "<style scoped>\n",
       "    .dataframe tbody tr th:only-of-type {\n",
       "        vertical-align: middle;\n",
       "    }\n",
       "\n",
       "    .dataframe tbody tr th {\n",
       "        vertical-align: top;\n",
       "    }\n",
       "\n",
       "    .dataframe thead th {\n",
       "        text-align: right;\n",
       "    }\n",
       "</style>\n",
       "<table border=\"1\" class=\"dataframe\">\n",
       "  <thead>\n",
       "    <tr style=\"text-align: right;\">\n",
       "      <th></th>\n",
       "      <th>pid</th>\n",
       "      <th>catid1</th>\n",
       "      <th>catid2</th>\n",
       "      <th>catid3</th>\n",
       "      <th>list_price</th>\n",
       "      <th>discount</th>\n",
       "      <th>is_cat_male</th>\n",
       "      <th>is_cat_female</th>\n",
       "      <th>imp_1d</th>\n",
       "      <th>imp_uv_1d</th>\n",
       "      <th>...</th>\n",
       "      <th>wishlist_7d_u</th>\n",
       "      <th>purchase_7d_u</th>\n",
       "      <th>atv_u</th>\n",
       "      <th>real_atv_u</th>\n",
       "      <th>real_pay_u</th>\n",
       "      <th>total_orders_u</th>\n",
       "      <th>refund_cnt_u</th>\n",
       "      <th>comment_cnt_u</th>\n",
       "      <th>label</th>\n",
       "      <th>cnt</th>\n",
       "    </tr>\n",
       "  </thead>\n",
       "  <tbody>\n",
       "    <tr>\n",
       "      <th>count</th>\n",
       "      <td>1.880000e+04</td>\n",
       "      <td>18800.000000</td>\n",
       "      <td>18800.000000</td>\n",
       "      <td>1.880000e+04</td>\n",
       "      <td>18800.000000</td>\n",
       "      <td>18800.000000</td>\n",
       "      <td>18800.000000</td>\n",
       "      <td>18800.000000</td>\n",
       "      <td>18800.000000</td>\n",
       "      <td>18800.000000</td>\n",
       "      <td>...</td>\n",
       "      <td>18800.000000</td>\n",
       "      <td>18800.000000</td>\n",
       "      <td>18800.000000</td>\n",
       "      <td>18800.000000</td>\n",
       "      <td>18800.000000</td>\n",
       "      <td>18800.000000</td>\n",
       "      <td>18800.000000</td>\n",
       "      <td>18800.000000</td>\n",
       "      <td>18800.000000</td>\n",
       "      <td>18800.000000</td>\n",
       "    </tr>\n",
       "    <tr>\n",
       "      <th>mean</th>\n",
       "      <td>2.277920e+06</td>\n",
       "      <td>606.863298</td>\n",
       "      <td>60697.054362</td>\n",
       "      <td>4.224523e+07</td>\n",
       "      <td>8.207715</td>\n",
       "      <td>0.377036</td>\n",
       "      <td>0.345691</td>\n",
       "      <td>0.138191</td>\n",
       "      <td>36559.299309</td>\n",
       "      <td>49565.476064</td>\n",
       "      <td>...</td>\n",
       "      <td>5.915904</td>\n",
       "      <td>2.482234</td>\n",
       "      <td>9.629540</td>\n",
       "      <td>9.605550</td>\n",
       "      <td>66.692273</td>\n",
       "      <td>4.813936</td>\n",
       "      <td>0.001330</td>\n",
       "      <td>1.041596</td>\n",
       "      <td>0.387500</td>\n",
       "      <td>2.472234</td>\n",
       "    </tr>\n",
       "    <tr>\n",
       "      <th>std</th>\n",
       "      <td>1.272110e+06</td>\n",
       "      <td>6.922061</td>\n",
       "      <td>689.205364</td>\n",
       "      <td>2.804925e+07</td>\n",
       "      <td>10.411284</td>\n",
       "      <td>0.299285</td>\n",
       "      <td>0.475606</td>\n",
       "      <td>0.345110</td>\n",
       "      <td>44246.470827</td>\n",
       "      <td>84817.051936</td>\n",
       "      <td>...</td>\n",
       "      <td>14.797364</td>\n",
       "      <td>3.879619</td>\n",
       "      <td>10.795043</td>\n",
       "      <td>10.699141</td>\n",
       "      <td>175.987270</td>\n",
       "      <td>5.738801</td>\n",
       "      <td>0.037875</td>\n",
       "      <td>2.901943</td>\n",
       "      <td>0.487192</td>\n",
       "      <td>6.456166</td>\n",
       "    </tr>\n",
       "    <tr>\n",
       "      <th>min</th>\n",
       "      <td>9.175000e+03</td>\n",
       "      <td>601.000000</td>\n",
       "      <td>60101.000000</td>\n",
       "      <td>-1.000000e+00</td>\n",
       "      <td>1.050000</td>\n",
       "      <td>0.000000</td>\n",
       "      <td>0.000000</td>\n",
       "      <td>0.000000</td>\n",
       "      <td>0.000000</td>\n",
       "      <td>0.000000</td>\n",
       "      <td>...</td>\n",
       "      <td>0.000000</td>\n",
       "      <td>0.000000</td>\n",
       "      <td>0.000000</td>\n",
       "      <td>0.000000</td>\n",
       "      <td>0.000000</td>\n",
       "      <td>0.000000</td>\n",
       "      <td>0.000000</td>\n",
       "      <td>0.000000</td>\n",
       "      <td>0.000000</td>\n",
       "      <td>1.000000</td>\n",
       "    </tr>\n",
       "    <tr>\n",
       "      <th>25%</th>\n",
       "      <td>1.155264e+06</td>\n",
       "      <td>601.000000</td>\n",
       "      <td>60130.000000</td>\n",
       "      <td>-1.000000e+00</td>\n",
       "      <td>3.060000</td>\n",
       "      <td>0.040000</td>\n",
       "      <td>0.000000</td>\n",
       "      <td>0.000000</td>\n",
       "      <td>5303.750000</td>\n",
       "      <td>4333.750000</td>\n",
       "      <td>...</td>\n",
       "      <td>0.000000</td>\n",
       "      <td>0.000000</td>\n",
       "      <td>3.405000</td>\n",
       "      <td>3.415536</td>\n",
       "      <td>6.407500</td>\n",
       "      <td>1.000000</td>\n",
       "      <td>0.000000</td>\n",
       "      <td>0.000000</td>\n",
       "      <td>0.000000</td>\n",
       "      <td>1.000000</td>\n",
       "    </tr>\n",
       "    <tr>\n",
       "      <th>50%</th>\n",
       "      <td>2.277475e+06</td>\n",
       "      <td>602.000000</td>\n",
       "      <td>60224.000000</td>\n",
       "      <td>6.021416e+07</td>\n",
       "      <td>5.580000</td>\n",
       "      <td>0.390000</td>\n",
       "      <td>0.000000</td>\n",
       "      <td>0.000000</td>\n",
       "      <td>22074.000000</td>\n",
       "      <td>16813.000000</td>\n",
       "      <td>...</td>\n",
       "      <td>0.000000</td>\n",
       "      <td>1.000000</td>\n",
       "      <td>6.695227</td>\n",
       "      <td>6.742500</td>\n",
       "      <td>24.300000</td>\n",
       "      <td>3.000000</td>\n",
       "      <td>0.000000</td>\n",
       "      <td>0.000000</td>\n",
       "      <td>0.000000</td>\n",
       "      <td>1.000000</td>\n",
       "    </tr>\n",
       "    <tr>\n",
       "      <th>75%</th>\n",
       "      <td>3.359416e+06</td>\n",
       "      <td>612.000000</td>\n",
       "      <td>61202.000000</td>\n",
       "      <td>6.120101e+07</td>\n",
       "      <td>10.250000</td>\n",
       "      <td>0.640000</td>\n",
       "      <td>1.000000</td>\n",
       "      <td>0.000000</td>\n",
       "      <td>48616.500000</td>\n",
       "      <td>57425.250000</td>\n",
       "      <td>...</td>\n",
       "      <td>4.000000</td>\n",
       "      <td>3.000000</td>\n",
       "      <td>12.540580</td>\n",
       "      <td>12.540000</td>\n",
       "      <td>65.612500</td>\n",
       "      <td>6.000000</td>\n",
       "      <td>0.000000</td>\n",
       "      <td>0.000000</td>\n",
       "      <td>1.000000</td>\n",
       "      <td>1.000000</td>\n",
       "    </tr>\n",
       "    <tr>\n",
       "      <th>max</th>\n",
       "      <td>4.605571e+06</td>\n",
       "      <td>647.000000</td>\n",
       "      <td>64714.000000</td>\n",
       "      <td>6.471408e+07</td>\n",
       "      <td>377.240000</td>\n",
       "      <td>1.000000</td>\n",
       "      <td>1.000000</td>\n",
       "      <td>1.000000</td>\n",
       "      <td>188265.000000</td>\n",
       "      <td>779253.000000</td>\n",
       "      <td>...</td>\n",
       "      <td>132.000000</td>\n",
       "      <td>23.000000</td>\n",
       "      <td>190.970000</td>\n",
       "      <td>190.970000</td>\n",
       "      <td>7615.720000</td>\n",
       "      <td>37.000000</td>\n",
       "      <td>2.000000</td>\n",
       "      <td>22.000000</td>\n",
       "      <td>1.000000</td>\n",
       "      <td>50.000000</td>\n",
       "    </tr>\n",
       "  </tbody>\n",
       "</table>\n",
       "<p>8 rows × 118 columns</p>\n",
       "</div>"
      ],
      "text/plain": [
       "                pid        catid1        catid2        catid3    list_price  \\\n",
       "count  1.880000e+04  18800.000000  18800.000000  1.880000e+04  18800.000000   \n",
       "mean   2.277920e+06    606.863298  60697.054362  4.224523e+07      8.207715   \n",
       "std    1.272110e+06      6.922061    689.205364  2.804925e+07     10.411284   \n",
       "min    9.175000e+03    601.000000  60101.000000 -1.000000e+00      1.050000   \n",
       "25%    1.155264e+06    601.000000  60130.000000 -1.000000e+00      3.060000   \n",
       "50%    2.277475e+06    602.000000  60224.000000  6.021416e+07      5.580000   \n",
       "75%    3.359416e+06    612.000000  61202.000000  6.120101e+07     10.250000   \n",
       "max    4.605571e+06    647.000000  64714.000000  6.471408e+07    377.240000   \n",
       "\n",
       "           discount   is_cat_male  is_cat_female         imp_1d  \\\n",
       "count  18800.000000  18800.000000   18800.000000   18800.000000   \n",
       "mean       0.377036      0.345691       0.138191   36559.299309   \n",
       "std        0.299285      0.475606       0.345110   44246.470827   \n",
       "min        0.000000      0.000000       0.000000       0.000000   \n",
       "25%        0.040000      0.000000       0.000000    5303.750000   \n",
       "50%        0.390000      0.000000       0.000000   22074.000000   \n",
       "75%        0.640000      1.000000       0.000000   48616.500000   \n",
       "max        1.000000      1.000000       1.000000  188265.000000   \n",
       "\n",
       "           imp_uv_1d      ...       wishlist_7d_u  purchase_7d_u  \\\n",
       "count   18800.000000      ...        18800.000000   18800.000000   \n",
       "mean    49565.476064      ...            5.915904       2.482234   \n",
       "std     84817.051936      ...           14.797364       3.879619   \n",
       "min         0.000000      ...            0.000000       0.000000   \n",
       "25%      4333.750000      ...            0.000000       0.000000   \n",
       "50%     16813.000000      ...            0.000000       1.000000   \n",
       "75%     57425.250000      ...            4.000000       3.000000   \n",
       "max    779253.000000      ...          132.000000      23.000000   \n",
       "\n",
       "              atv_u    real_atv_u    real_pay_u  total_orders_u  refund_cnt_u  \\\n",
       "count  18800.000000  18800.000000  18800.000000    18800.000000  18800.000000   \n",
       "mean       9.629540      9.605550     66.692273        4.813936      0.001330   \n",
       "std       10.795043     10.699141    175.987270        5.738801      0.037875   \n",
       "min        0.000000      0.000000      0.000000        0.000000      0.000000   \n",
       "25%        3.405000      3.415536      6.407500        1.000000      0.000000   \n",
       "50%        6.695227      6.742500     24.300000        3.000000      0.000000   \n",
       "75%       12.540580     12.540000     65.612500        6.000000      0.000000   \n",
       "max      190.970000    190.970000   7615.720000       37.000000      2.000000   \n",
       "\n",
       "       comment_cnt_u         label           cnt  \n",
       "count   18800.000000  18800.000000  18800.000000  \n",
       "mean        1.041596      0.387500      2.472234  \n",
       "std         2.901943      0.487192      6.456166  \n",
       "min         0.000000      0.000000      1.000000  \n",
       "25%         0.000000      0.000000      1.000000  \n",
       "50%         0.000000      0.000000      1.000000  \n",
       "75%         0.000000      1.000000      1.000000  \n",
       "max        22.000000      1.000000     50.000000  \n",
       "\n",
       "[8 rows x 118 columns]"
      ]
     },
     "execution_count": 13,
     "metadata": {},
     "output_type": "execute_result"
    }
   ],
   "source": [
    "tmp_df.describe()"
   ]
  },
  {
   "cell_type": "code",
   "execution_count": 14,
   "metadata": {},
   "outputs": [
    {
     "data": {
      "text/plain": [
       "112"
      ]
     },
     "execution_count": 14,
     "metadata": {},
     "output_type": "execute_result"
    }
   ],
   "source": [
    "train_feature = [x for x in tmp_df.columns.tolist() if x not in [\"log_date\",\"label\",'pid','cid','catid1','catid2','catid3'] ]\n",
    "len(train_feature)"
   ]
  },
  {
   "cell_type": "code",
   "execution_count": 15,
   "metadata": {},
   "outputs": [],
   "source": [
    "def id_process(data,category_feature):\n",
    "    # 离散特征one-hot编码\n",
    "    print('开始one-hot...')\n",
    "    for col in category_feature:\n",
    "        onehot_feats = pd.get_dummies(data[col], prefix = col)\n",
    "        data.drop([col], axis = 1, inplace = True)\n",
    "        data = pd.concat([data, onehot_feats], axis = 1)\n",
    "    print('one-hot结束')\n",
    "    \n",
    "    return data\n",
    "    "
   ]
  },
  {
   "cell_type": "code",
   "execution_count": 16,
   "metadata": {},
   "outputs": [
    {
     "name": "stdout",
     "output_type": "stream",
     "text": [
      "开始one-hot...\n",
      "one-hot结束\n"
     ]
    },
    {
     "data": {
      "text/plain": [
       "(18800, 29366)"
      ]
     },
     "execution_count": 16,
     "metadata": {},
     "output_type": "execute_result"
    }
   ],
   "source": [
    "id_feature = ['pid','cid','catid1','catid2','catid3']\n",
    "tmp_df = id_process(tmp_df, id_feature)\n",
    "tmp_df.shape"
   ]
  },
  {
   "cell_type": "code",
   "execution_count": 17,
   "metadata": {},
   "outputs": [
    {
     "data": {
      "text/plain": [
       "77"
      ]
     },
     "execution_count": 17,
     "metadata": {},
     "output_type": "execute_result"
    }
   ],
   "source": [
    "data_df = tmp_df.copy()\n",
    "del tmp_df\n",
    "gc.collect()"
   ]
  },
  {
   "cell_type": "code",
   "execution_count": 18,
   "metadata": {},
   "outputs": [],
   "source": [
    "label = np.array(data_df[\"label\"].values)\n",
    "train_df = data_df.drop([\"label\",\"log_date\"],axis = 1)\n",
    "X_train,X_test,y_train,y_test = train_test_split(train_df,label,test_size=0.2,random_state=2019)\n"
   ]
  },
  {
   "cell_type": "code",
   "execution_count": 19,
   "metadata": {},
   "outputs": [
    {
     "data": {
      "text/plain": [
       "((15040, 112), (3760, 112), (15040, 29252), (3760, 29252))"
      ]
     },
     "execution_count": 19,
     "metadata": {},
     "output_type": "execute_result"
    }
   ],
   "source": [
    "x_train = X_train[train_feature]\n",
    "x_test = X_test[train_feature]\n",
    "id_train = X_train.drop(train_feature,axis = 1)\n",
    "id_test = X_test.drop(train_feature,axis = 1)\n",
    "x_train.shape,x_test.shape,id_train.shape,id_test.shape"
   ]
  },
  {
   "cell_type": "code",
   "execution_count": 29,
   "metadata": {},
   "outputs": [],
   "source": [
    "def xgb_param_train(x_train,x_test,y_train,y_test):\n",
    "    \n",
    "    xgb1 = XGBClassifier(booster='gbtree',\n",
    "                    objective= 'binary:logistic',\n",
    "                    learning_rate = 0.1,\n",
    "                    eval_metric='auc',\n",
    "                    gamma = 0.0,\n",
    "                    min_child_weight= 1,\n",
    "                    max_depth= 5,\n",
    "                    subsample= 0.8,\n",
    "                    n_estimators=64,\n",
    "                    nthread=4,\n",
    "                    seed=0)\n",
    "    \n",
    "    def modelfit(alg,X_train,X_test,y_train,y_test,useTrainCV=True,cv_folds=5,early_stopping_rounds=100):\n",
    "       \n",
    "        if useTrainCV:\n",
    "            xgb_param = alg.get_xgb_params()\n",
    "            xgtrain =xgb.DMatrix(X_train,label=y_train)\n",
    "            xgtest = xgb.DMatrix(X_test)\n",
    "            cvresult = xgb.cv(xgb_param, xgtrain, num_boost_round=alg.get_params()['n_estimators'], nfold=cv_folds,\n",
    "                              early_stopping_rounds=early_stopping_rounds,show_stdv=False)\n",
    "            alg.set_params(n_estimators=cvresult.shape[0])\n",
    "            \n",
    "        alg.fit(X_train, y_train, eval_metric='auc')\n",
    "        \n",
    "        dtrain_predictions = alg.predict(X_train)\n",
    "        print(\" Score (Train): %f\" % roc_auc_score(y_train, dtrain_predictions))\n",
    "        dtest_predictions = alg.predict(X_test)\n",
    "        print(\"Score (Test): %f\" % roc_auc_score(y_test, dtest_predictions))\n",
    "        \n",
    "    \n",
    "    def paramfit(X_train,y_train):\n",
    "        param_test1 = {\n",
    "        'max_depth':[3,5,7],\n",
    "        'min_child_weight':[1,3,5],\n",
    "        'n_estimators':[32,64,80]\n",
    "        }\n",
    "        gsearch1 = GridSearchCV(estimator = XGBClassifier(booster='gbtree',\n",
    "                    objective= 'binary:logistic',\n",
    "                    learning_rate = 0.1,\n",
    "                    eval_metric='auc',\n",
    "                    gamma = 0.0,\n",
    "                    min_child_weight= 1,\n",
    "                    max_depth= 5,\n",
    "                    subsample= 0.8,\n",
    "                    n_estimators=64,\n",
    "                    nthread=4,\n",
    "                    seed=0),\n",
    "                    param_grid = param_test1,n_jobs=4,iid=False, cv=5)\n",
    "        gsearch1.fit(X_train,y_train)\n",
    "        print(gsearch1.cv_results_, gsearch1.best_params_, gsearch1.best_score_)\n",
    "        \n",
    "    modelfit(xgb1,x_train,x_test,y_train,y_test)\n",
    "    paramfit(x_train,y_train)\n"
   ]
  },
  {
   "cell_type": "code",
   "execution_count": 30,
   "metadata": {},
   "outputs": [
    {
     "name": "stdout",
     "output_type": "stream",
     "text": [
      " Score (Train): 0.717849\n",
      "Score (Test): 0.668934\n",
      "{'mean_fit_time': array([ 7.07629328, 15.16528883, 18.81612816,  7.28627958, 15.24922328,\n",
      "       18.70642114,  7.48101597, 15.22221847, 18.49180694, 14.18063769,\n",
      "       29.55171847, 36.66150656, 13.56809163, 28.06907096, 35.05463662,\n",
      "       13.20419669, 27.56748452, 34.66344347, 25.0783113 , 52.36446195,\n",
      "       65.52669182, 23.94511433, 47.42671242, 60.63759274, 23.11599779,\n",
      "       46.14584837, 42.75298872]), 'std_fit_time': array([ 0.73078743,  0.87515548,  0.91504558,  0.55226093,  0.63974314,\n",
      "        0.81141135,  0.15893738,  0.44602605,  0.98290362,  0.28651968,\n",
      "        0.7487257 ,  1.34957706,  0.35253651,  0.82116003,  1.07074029,\n",
      "        0.96835202,  0.77586028,  0.70689317,  0.60562603,  1.1996129 ,\n",
      "        2.34273953,  0.55017958,  1.9353582 ,  1.96607056,  0.37473446,\n",
      "        1.00046787, 18.51089378]), 'mean_score_time': array([0.03660035, 0.03020339, 0.0300528 , 0.039676  , 0.04085498,\n",
      "       0.03785253, 0.03078852, 0.04234276, 0.03626709, 0.04265518,\n",
      "       0.03982944, 0.03245525, 0.03877082, 0.03430471, 0.03998175,\n",
      "       0.03336539, 0.04470892, 0.04053288, 0.03888106, 0.04527636,\n",
      "       0.04072728, 0.03252864, 0.03674192, 0.04361606, 0.03686657,\n",
      "       0.04384294, 0.02548714]), 'std_score_time': array([0.00492606, 0.00773856, 0.00577926, 0.00773152, 0.01148379,\n",
      "       0.00446553, 0.00498113, 0.00760023, 0.0043661 , 0.00334534,\n",
      "       0.00660746, 0.00895964, 0.0054968 , 0.01129144, 0.00460553,\n",
      "       0.00390869, 0.0148305 , 0.00213609, 0.01208357, 0.00637834,\n",
      "       0.00643314, 0.01305204, 0.00570036, 0.00241697, 0.00784154,\n",
      "       0.0088699 , 0.01456032]), 'param_max_depth': masked_array(data=[3, 3, 3, 3, 3, 3, 3, 3, 3, 5, 5, 5, 5, 5, 5, 5, 5, 5,\n",
      "                   7, 7, 7, 7, 7, 7, 7, 7, 7],\n",
      "             mask=[False, False, False, False, False, False, False, False,\n",
      "                   False, False, False, False, False, False, False, False,\n",
      "                   False, False, False, False, False, False, False, False,\n",
      "                   False, False, False],\n",
      "       fill_value='?',\n",
      "            dtype=object), 'param_min_child_weight': masked_array(data=[1, 1, 1, 3, 3, 3, 5, 5, 5, 1, 1, 1, 3, 3, 3, 5, 5, 5,\n",
      "                   1, 1, 1, 3, 3, 3, 5, 5, 5],\n",
      "             mask=[False, False, False, False, False, False, False, False,\n",
      "                   False, False, False, False, False, False, False, False,\n",
      "                   False, False, False, False, False, False, False, False,\n",
      "                   False, False, False],\n",
      "       fill_value='?',\n",
      "            dtype=object), 'param_n_estimators': masked_array(data=[32, 64, 80, 32, 64, 80, 32, 64, 80, 32, 64, 80, 32, 64,\n",
      "                   80, 32, 64, 80, 32, 64, 80, 32, 64, 80, 32, 64, 80],\n",
      "             mask=[False, False, False, False, False, False, False, False,\n",
      "                   False, False, False, False, False, False, False, False,\n",
      "                   False, False, False, False, False, False, False, False,\n",
      "                   False, False, False],\n",
      "       fill_value='?',\n",
      "            dtype=object), 'params': [{'max_depth': 3, 'min_child_weight': 1, 'n_estimators': 32}, {'max_depth': 3, 'min_child_weight': 1, 'n_estimators': 64}, {'max_depth': 3, 'min_child_weight': 1, 'n_estimators': 80}, {'max_depth': 3, 'min_child_weight': 3, 'n_estimators': 32}, {'max_depth': 3, 'min_child_weight': 3, 'n_estimators': 64}, {'max_depth': 3, 'min_child_weight': 3, 'n_estimators': 80}, {'max_depth': 3, 'min_child_weight': 5, 'n_estimators': 32}, {'max_depth': 3, 'min_child_weight': 5, 'n_estimators': 64}, {'max_depth': 3, 'min_child_weight': 5, 'n_estimators': 80}, {'max_depth': 5, 'min_child_weight': 1, 'n_estimators': 32}, {'max_depth': 5, 'min_child_weight': 1, 'n_estimators': 64}, {'max_depth': 5, 'min_child_weight': 1, 'n_estimators': 80}, {'max_depth': 5, 'min_child_weight': 3, 'n_estimators': 32}, {'max_depth': 5, 'min_child_weight': 3, 'n_estimators': 64}, {'max_depth': 5, 'min_child_weight': 3, 'n_estimators': 80}, {'max_depth': 5, 'min_child_weight': 5, 'n_estimators': 32}, {'max_depth': 5, 'min_child_weight': 5, 'n_estimators': 64}, {'max_depth': 5, 'min_child_weight': 5, 'n_estimators': 80}, {'max_depth': 7, 'min_child_weight': 1, 'n_estimators': 32}, {'max_depth': 7, 'min_child_weight': 1, 'n_estimators': 64}, {'max_depth': 7, 'min_child_weight': 1, 'n_estimators': 80}, {'max_depth': 7, 'min_child_weight': 3, 'n_estimators': 32}, {'max_depth': 7, 'min_child_weight': 3, 'n_estimators': 64}, {'max_depth': 7, 'min_child_weight': 3, 'n_estimators': 80}, {'max_depth': 7, 'min_child_weight': 5, 'n_estimators': 32}, {'max_depth': 7, 'min_child_weight': 5, 'n_estimators': 64}, {'max_depth': 7, 'min_child_weight': 5, 'n_estimators': 80}], 'split0_test_score': array([0.72423146, 0.73191682, 0.73462929, 0.72423146, 0.73282098,\n",
      "       0.73327306, 0.72468354, 0.73191682, 0.73146474, 0.73101266,\n",
      "       0.73056058, 0.72739602, 0.73056058, 0.73462929, 0.73508137,\n",
      "       0.73101266, 0.7301085 , 0.7323689 , 0.73372514, 0.72377939,\n",
      "       0.72287523, 0.7278481 , 0.72287523, 0.72332731, 0.73372514,\n",
      "       0.7278481 , 0.72423146]), 'split1_test_score': array([0.73179557, 0.7421981 , 0.74129353, 0.73270014, 0.74265038,\n",
      "       0.74400724, 0.73179557, 0.74084125, 0.7394844 , 0.73857983,\n",
      "       0.74174582, 0.7394844 , 0.73631841, 0.74084125, 0.7394844 ,\n",
      "       0.73722298, 0.7394844 , 0.73903211, 0.73812754, 0.73315242,\n",
      "       0.73450927, 0.74355495, 0.73903211, 0.73903211, 0.7394844 ,\n",
      "       0.74038896, 0.74038896]), 'split2_test_score': array([0.73179557, 0.73496156, 0.73631841, 0.73179557, 0.73450927,\n",
      "       0.73903211, 0.73179557, 0.73496156, 0.73993668, 0.73179557,\n",
      "       0.73496156, 0.7336047 , 0.73315242, 0.73541384, 0.73677069,\n",
      "       0.72953415, 0.73631841, 0.74536409, 0.730891  , 0.72320217,\n",
      "       0.72003618, 0.73450927, 0.73541384, 0.730891  , 0.73496156,\n",
      "       0.72862958, 0.7336047 ]), 'split3_test_score': array([0.72579186, 0.73800905, 0.73891403, 0.72579186, 0.73755656,\n",
      "       0.73936652, 0.72579186, 0.73800905, 0.73710407, 0.72850679,\n",
      "       0.7361991 , 0.7321267 , 0.73529412, 0.73665158, 0.73755656,\n",
      "       0.73438914, 0.73891403, 0.73755656, 0.73348416, 0.73303167,\n",
      "       0.73031674, 0.7280543 , 0.73529412, 0.72714932, 0.73484163,\n",
      "       0.73438914, 0.73076923]), 'split4_test_score': array([0.73846154, 0.7479638 , 0.74660633, 0.73846154, 0.74705882,\n",
      "       0.7479638 , 0.73800905, 0.74570136, 0.74705882, 0.75475113,\n",
      "       0.74932127, 0.74479638, 0.74660633, 0.74977376, 0.74479638,\n",
      "       0.75294118, 0.74751131, 0.74434389, 0.74705882, 0.73846154,\n",
      "       0.73936652, 0.74660633, 0.74615385, 0.74253394, 0.74524887,\n",
      "       0.73484163, 0.73303167]), 'mean_test_score': array([0.7304152 , 0.73900986, 0.73955232, 0.73059611, 0.7389192 ,\n",
      "       0.74072854, 0.73041512, 0.73828601, 0.73900974, 0.73692919,\n",
      "       0.73855766, 0.73548164, 0.73638637, 0.73946194, 0.73873788,\n",
      "       0.73702002, 0.73846733, 0.73973311, 0.73665733, 0.73032544,\n",
      "       0.72942079, 0.73611459, 0.73575383, 0.73258674, 0.73765232,\n",
      "       0.73321948, 0.73240521]), 'std_test_score': array([0.00506297, 0.00562209, 0.00419268, 0.00512484, 0.00526627,\n",
      "       0.00496822, 0.0048105 , 0.0047584 , 0.00502854, 0.00951465,\n",
      "       0.00645705, 0.00604884, 0.00547802, 0.00558347, 0.00334359,\n",
      "       0.00839729, 0.00561276, 0.00474189, 0.00569684, 0.00591783,\n",
      "       0.00716279, 0.00776294, 0.00755106, 0.0071926 , 0.00428082,\n",
      "       0.00458955, 0.00519727]), 'rank_test_score': array([24,  5,  3, 23,  7,  1, 25, 11,  6, 14,  9, 19, 16,  4,  8, 13, 10,\n",
      "        2, 15, 26, 27, 17, 18, 21, 12, 20, 22], dtype=int32), 'split0_train_score': array([0.73727663, 0.75265777, 0.75978285, 0.73727663, 0.75288396,\n",
      "       0.75582447, 0.73738973, 0.75028274, 0.75616376, 0.76374124,\n",
      "       0.79065822, 0.80705723, 0.76396743, 0.78952726, 0.80185478,\n",
      "       0.76080072, 0.78545578, 0.79653924, 0.81146799, 0.85930785,\n",
      "       0.88599864, 0.80649174, 0.8476589 , 0.87140918, 0.79518209,\n",
      "       0.84245646, 0.86665913]), 'split1_train_score': array([0.73719326, 0.7501979 , 0.75698292, 0.73617551, 0.74985865,\n",
      "       0.75709601, 0.73628859, 0.7508764 , 0.75653059, 0.76082777,\n",
      "       0.79678842, 0.80764446, 0.76195861, 0.78796788, 0.80221644,\n",
      "       0.75777451, 0.78559312, 0.80006785, 0.81194165, 0.87051905,\n",
      "       0.89958159, 0.79927626, 0.85310415, 0.87583399, 0.79452674,\n",
      "       0.83749859, 0.86203777]), 'split2_train_score': array([0.73798485, 0.75562592, 0.7620717 , 0.73775868, 0.75619134,\n",
      "       0.76229786, 0.73775868, 0.75404275, 0.75935768, 0.76331562,\n",
      "       0.79509216, 0.81126315, 0.76523804, 0.79316974, 0.80425195,\n",
      "       0.76060161, 0.78762863, 0.80255569, 0.80798372, 0.86373403,\n",
      "       0.89573674, 0.80707905, 0.84959855, 0.87402465, 0.79927626,\n",
      "       0.84258736, 0.86904897]), 'split3_train_score': array([0.73688376, 0.75395749, 0.75972411, 0.73688376, 0.75214835,\n",
      "       0.75893261, 0.73688376, 0.75146992, 0.75949796, 0.75678426,\n",
      "       0.7933062 , 0.80630936, 0.75836725, 0.78912257, 0.80065581,\n",
      "       0.75689733, 0.78448666, 0.79816825, 0.80981456, 0.87132519,\n",
      "       0.89473089, 0.8046133 , 0.85402533, 0.88240615, 0.7987336 ,\n",
      "       0.84543193, 0.8681592 ]), 'split4_train_score': array([0.73326549, 0.7507915 , 0.75678426, 0.7336047 , 0.74988693,\n",
      "       0.75768883, 0.73337856, 0.74932157, 0.75395749, 0.75870647,\n",
      "       0.79047942, 0.80563094, 0.75927182, 0.79093171, 0.8065355 ,\n",
      "       0.76062867, 0.78878336, 0.80269109, 0.80913614, 0.87279512,\n",
      "       0.90241972, 0.80416101, 0.85425147, 0.87584803, 0.79805518,\n",
      "       0.84724107, 0.86849842]), 'mean_train_score': array([0.7365208 , 0.75264611, 0.75906917, 0.73633986, 0.75219384,\n",
      "       0.75836796, 0.73633986, 0.75119868, 0.7571015 , 0.76067507,\n",
      "       0.79326488, 0.80758103, 0.76176063, 0.79014383, 0.8031029 ,\n",
      "       0.75934057, 0.78638951, 0.80000443, 0.81006881, 0.86753625,\n",
      "       0.89569352, 0.80432427, 0.85172768, 0.8759044 , 0.79715478,\n",
      "       0.84304308, 0.8668807 ]), 'std_train_score': array([0.00166708, 0.00200162, 0.00197619, 0.0014625 , 0.00233381,\n",
      "       0.00220506, 0.00156096, 0.00158925, 0.00209397, 0.00266124,\n",
      "       0.00246209, 0.00196247, 0.00263479, 0.0017852 , 0.0020705 ,\n",
      "       0.00166153, 0.00157435, 0.00241289, 0.00146611, 0.00515892,\n",
      "       0.00557276, 0.00275243, 0.00263179, 0.00363377, 0.00192884,\n",
      "       0.00330524, 0.00254778])} {'max_depth': 3, 'min_child_weight': 3, 'n_estimators': 80} 0.7407285443021877\n",
      "CPU times: user 45 s, sys: 110 ms, total: 45.1 s\n",
      "Wall time: 15min 50s\n"
     ]
    }
   ],
   "source": [
    "%%time\n",
    "xgb_param_train(x_train,x_test,y_train,y_test)"
   ]
  },
  {
   "cell_type": "code",
   "execution_count": 20,
   "metadata": {},
   "outputs": [],
   "source": [
    "def xgb_train(x_train,x_test,y_train,y_test):\n",
    "    \n",
    "    train_data = pd.concat([x_train,x_test],ignore_index=True)\n",
    "    \n",
    "    xgtrain = xgb.DMatrix(x_train,label=y_train)\n",
    "    xgtest = xgb.DMatrix(x_test)\n",
    "    xgball = xgb.DMatrix(train_data)\n",
    "    \n",
    "    xgb1 = XGBClassifier(booster='gbtree',\n",
    "                    objective= 'binary:logistic',\n",
    "                    learning_rate = 0.1,\n",
    "                    eval_metric='auc',\n",
    "                    gamma = 0.0,\n",
    "                    min_child_weight= 1,\n",
    "                    max_depth= 5,\n",
    "                    subsample= 0.8,\n",
    "                    n_estimators=64,\n",
    "                    nthread=4,\n",
    "                    seed=0)\n",
    "    \n",
    "    xgb_model = xgb.train(xgb1.get_params(),xgtrain,num_boost_round=100)\n",
    "    \n",
    "    print('画特征重要性排序...')\n",
    "    f,ax=plt.subplots(figsize=(10,8))\n",
    "    ax = xgb.plot_importance(xgb_model, max_num_features=20, height=0.5,ax=ax)#max_features表示最多展示出前20个重要性特征，可以自行设置\n",
    "    plt.show()\n",
    "\n",
    "    print('Start predicting...')\n",
    "    \n",
    "    all_leaves = xgb_model.predict(xgball, pred_leaf=True)\n",
    "    xgbenc = OneHotEncoder()\n",
    "    xgbenc.fit(all_leaves)\n",
    "    \n",
    "     \n",
    "    train_leaves = xgb_model.predict(xgtrain, pred_leaf=True)\n",
    "\n",
    "    print(np.array(train_leaves).shape)\n",
    "    print(train_leaves[0])\n",
    "    \n",
    "    print('Writing transformed training data')\n",
    "    transformed_training_matrix = xgbenc.transform(train_leaves).toarray() # N * num_tress * num_leafs    \n",
    "    \n",
    "    test_leaves = xgb_model.predict(xgtest, pred_leaf=True)\n",
    "\n",
    "    print(np.array(test_leaves).shape)\n",
    "    print(test_leaves[0])\n",
    "  \n",
    "    print('Writing transformed testing data')\n",
    "    transformed_testing_matrix = xgbenc.transform(test_leaves).toarray() # N * num_tress * num_leafs \n",
    "    \n",
    "    return transformed_training_matrix, transformed_testing_matrix,y_train,y_test"
   ]
  },
  {
   "cell_type": "code",
   "execution_count": 21,
   "metadata": {},
   "outputs": [
    {
     "name": "stdout",
     "output_type": "stream",
     "text": [
      "画特征重要性排序...\n"
     ]
    },
    {
     "data": {
      "image/png": "[encoded data removed]",
      "text/plain": [
       "<Figure size 720x576 with 1 Axes>"
      ]
     },
     "metadata": {
      "needs_background": "light"
     },
     "output_type": "display_data"
    },
    {
     "name": "stdout",
     "output_type": "stream",
     "text": [
      "Start predicting...\n"
     ]
    },
    {
     "name": "stderr",
     "output_type": "stream",
     "text": [
      "/home/ec2-user/.local/lib/python3.6/site-packages/sklearn/preprocessing/_encoders.py:415: FutureWarning: The handling of integer data will change in version 0.22. Currently, the categories are determined based on the range [0, max(values)], while in the future they will be determined based on the unique values.\n",
      "If you want the future behaviour and silence this warning, you can specify \"categories='auto'\".\n",
      "In case you used a LabelEncoder before this OneHotEncoder to convert the categories to integers, then you can now use the OneHotEncoder directly.\n",
      "  warnings.warn(msg, FutureWarning)\n"
     ]
    },
    {
     "name": "stdout",
     "output_type": "stream",
     "text": [
      "(15040, 100)\n",
      "[19 19 18 17 23 20 17 17 17 16 17 17 20 21 19 19 18 22 17 23 17 29 17 20\n",
      " 18 15 17 20 23 17 19 18 22 18 18 23 23 17 19 16 18 17 17 33 13 22 20 31\n",
      " 26 45 21 33 38 31 35 21 18 46 31 21 31 53 37 33 30 57 31 32 25 31 19 31\n",
      " 51 35 23 34 23 23 31 29 41 31 31 26 33 33 29 29 43 33 39 19 43 35 31 19\n",
      " 34 34 49 26]\n",
      "Writing transformed training data\n",
      "(3760, 100)\n",
      "[21 27 19 23 31 21 27 18 18 19 18 18 22 27 21 24 19 27 19 25 29 17 17 20\n",
      " 18 25 17 20 23 17 24 26 25 20 11 31 30 18 19 20 19 18 18 45 15 23 20 44\n",
      " 26 41 26 34 56 31 55 20 18 45 31 20 31 31 27 35 29 47 35 30 27 42 25 31\n",
      " 47 37 24 34 24 23 36 29 35 32 31 26 39 33 29 29 46 42 30 20 33 35 31 19\n",
      " 38 33 52 25]\n",
      "Writing transformed testing data\n"
     ]
    }
   ],
   "source": [
    "# cat_feature = ['is_cat_male','is_cat_female','coupon_sensitive','is_country_in','is_country_me','is_country_us',\n",
    "#                'is_male','is_female','is_ios']\n",
    "transformed_training_matrix,transformed_testing_matrix,y_train,y_test = xgb_train(x_train,x_test,y_train,y_test)"
   ]
  },
  {
   "cell_type": "code",
   "execution_count": 22,
   "metadata": {},
   "outputs": [
    {
     "data": {
      "text/plain": [
       "(array([0., 0., 0., ..., 0., 0., 0.]), (15040, 2057))"
      ]
     },
     "execution_count": 22,
     "metadata": {},
     "output_type": "execute_result"
    }
   ],
   "source": [
    "transformed_training_matrix[0],transformed_training_matrix.shape"
   ]
  },
  {
   "cell_type": "code",
   "execution_count": 19,
   "metadata": {},
   "outputs": [
    {
     "data": {
      "text/plain": [
       "(array([0, 0, 0, ..., 0, 0, 0], dtype=uint8), (6692, 14634))"
      ]
     },
     "execution_count": 19,
     "metadata": {},
     "output_type": "execute_result"
    }
   ],
   "source": [
    "id_train.values[0],id_train.values.shape"
   ]
  },
  {
   "cell_type": "code",
   "execution_count": 23,
   "metadata": {},
   "outputs": [
    {
     "data": {
      "text/plain": [
       "(15040, 31309)"
      ]
     },
     "execution_count": 23,
     "metadata": {},
     "output_type": "execute_result"
    }
   ],
   "source": [
    "transformed_training_matrix = np.hstack([transformed_training_matrix,id_train.values])\n",
    "transformed_training_matrix.shape"
   ]
  },
  {
   "cell_type": "code",
   "execution_count": 24,
   "metadata": {},
   "outputs": [
    {
     "data": {
      "text/plain": [
       "(3760, 31309)"
      ]
     },
     "execution_count": 24,
     "metadata": {},
     "output_type": "execute_result"
    }
   ],
   "source": [
    "transformed_testing_matrix = np.hstack([transformed_testing_matrix,id_test.values])\n",
    "transformed_testing_matrix.shape"
   ]
  },
  {
   "cell_type": "code",
   "execution_count": 25,
   "metadata": {},
   "outputs": [
    {
     "data": {
      "text/plain": [
       "4799"
      ]
     },
     "execution_count": 25,
     "metadata": {},
     "output_type": "execute_result"
    }
   ],
   "source": [
    "del data_df\n",
    "del id_test\n",
    "del id_train\n",
    "gc.collect()"
   ]
  },
  {
   "cell_type": "code",
   "execution_count": 25,
   "metadata": {},
   "outputs": [
    {
     "data": {
      "text/plain": [
       "array([1, 0, 1, 0, 0])"
      ]
     },
     "execution_count": 25,
     "metadata": {},
     "output_type": "execute_result"
    }
   ],
   "source": [
    "y_test[-5:]"
   ]
  },
  {
   "cell_type": "code",
   "execution_count": 26,
   "metadata": {},
   "outputs": [],
   "source": [
    "def lr_train(transformed_training_matrix,transformed_testing_matrix,y_train,y_test):\n",
    "    \n",
    "    c = np.array([1,0.5,0.1,0.05,0.01,0.005,0.001])\n",
    "    for t in range(0,len(c)):\n",
    "        lm = LogisticRegression(penalty='l2',C=c[t]) \n",
    "        lm.fit(transformed_training_matrix,y_train)  \n",
    "        y_pred_test = lm.predict_proba(transformed_testing_matrix)   \n",
    "\n",
    "        NE = (-1) / len(y_pred_test) * sum(((1+y_test)/2 * np.log(y_pred_test[:,1]) +  (1-y_test)/2 * np.log(1 - y_pred_test[:,1])))\n",
    "        print(\"Normalized Cross Entropy \" + str(NE))\n",
    "\n",
    "        auc_score = roc_auc_score(y_test, y_pred_test[:, 1])\n",
    "        print('id_auc_score:', auc_score)"
   ]
  },
  {
   "cell_type": "code",
   "execution_count": 27,
   "metadata": {},
   "outputs": [
    {
     "name": "stderr",
     "output_type": "stream",
     "text": [
      "/home/ec2-user/.local/lib/python3.6/site-packages/sklearn/linear_model/logistic.py:432: FutureWarning: Default solver will be changed to 'lbfgs' in 0.22. Specify a solver to silence this warning.\n",
      "  FutureWarning)\n"
     ]
    },
    {
     "name": "stdout",
     "output_type": "stream",
     "text": [
      "Normalized Cross Entropy 1.356222981771601\n",
      "id_auc_score: 0.7309838171749957\n"
     ]
    },
    {
     "name": "stderr",
     "output_type": "stream",
     "text": [
      "/home/ec2-user/.local/lib/python3.6/site-packages/sklearn/linear_model/logistic.py:432: FutureWarning: Default solver will be changed to 'lbfgs' in 0.22. Specify a solver to silence this warning.\n",
      "  FutureWarning)\n"
     ]
    },
    {
     "name": "stdout",
     "output_type": "stream",
     "text": [
      "Normalized Cross Entropy 1.2426580111633592\n",
      "id_auc_score: 0.7340403180358287\n"
     ]
    },
    {
     "name": "stderr",
     "output_type": "stream",
     "text": [
      "/home/ec2-user/.local/lib/python3.6/site-packages/sklearn/linear_model/logistic.py:432: FutureWarning: Default solver will be changed to 'lbfgs' in 0.22. Specify a solver to silence this warning.\n",
      "  FutureWarning)\n"
     ]
    },
    {
     "name": "stdout",
     "output_type": "stream",
     "text": [
      "Normalized Cross Entropy 1.0486784891113878\n",
      "id_auc_score: 0.7435424117806413\n"
     ]
    },
    {
     "name": "stderr",
     "output_type": "stream",
     "text": [
      "/home/ec2-user/.local/lib/python3.6/site-packages/sklearn/linear_model/logistic.py:432: FutureWarning: Default solver will be changed to 'lbfgs' in 0.22. Specify a solver to silence this warning.\n",
      "  FutureWarning)\n"
     ]
    },
    {
     "name": "stdout",
     "output_type": "stream",
     "text": [
      "Normalized Cross Entropy 0.9872465672649939\n",
      "id_auc_score: 0.7484058124775925\n"
     ]
    },
    {
     "name": "stderr",
     "output_type": "stream",
     "text": [
      "/home/ec2-user/.local/lib/python3.6/site-packages/sklearn/linear_model/logistic.py:432: FutureWarning: Default solver will be changed to 'lbfgs' in 0.22. Specify a solver to silence this warning.\n",
      "  FutureWarning)\n"
     ]
    },
    {
     "name": "stdout",
     "output_type": "stream",
     "text": [
      "Normalized Cross Entropy 0.8888881062638416\n",
      "id_auc_score: 0.7592880403377051\n"
     ]
    },
    {
     "name": "stderr",
     "output_type": "stream",
     "text": [
      "/home/ec2-user/.local/lib/python3.6/site-packages/sklearn/linear_model/logistic.py:432: FutureWarning: Default solver will be changed to 'lbfgs' in 0.22. Specify a solver to silence this warning.\n",
      "  FutureWarning)\n"
     ]
    },
    {
     "name": "stdout",
     "output_type": "stream",
     "text": [
      "Normalized Cross Entropy 0.8624198672801792\n",
      "id_auc_score: 0.7625218635476212\n"
     ]
    },
    {
     "name": "stderr",
     "output_type": "stream",
     "text": [
      "/home/ec2-user/.local/lib/python3.6/site-packages/sklearn/linear_model/logistic.py:432: FutureWarning: Default solver will be changed to 'lbfgs' in 0.22. Specify a solver to silence this warning.\n",
      "  FutureWarning)\n"
     ]
    },
    {
     "name": "stdout",
     "output_type": "stream",
     "text": [
      "Normalized Cross Entropy 0.8202866381694536\n",
      "id_auc_score: 0.7638426915327237\n"
     ]
    }
   ],
   "source": [
    "lr_train(transformed_training_matrix,transformed_testing_matrix,y_train,y_test)"
   ]
  },
  {
   "cell_type": "code",
   "execution_count": null,
   "metadata": {},
   "outputs": [],
   "source": []
  }
 ],
 "metadata": {
  "kernelspec": {
   "display_name": "Python 3",
   "language": "python",
   "name": "python3"
  },
  "language_info": {
   "codemirror_mode": {
    "name": "ipython",
    "version": 3
   },
   "file_extension": ".py",
   "mimetype": "text/x-python",
   "name": "python",
   "nbconvert_exporter": "python",
   "pygments_lexer": "ipython3",
   "version": "3.6.1"
  },
  "pycharm": {
   "stem_cell": {
    "cell_type": "raw",
    "source": [],
    "metadata": {
     "collapsed": false
    }
   }
  }
 },
 "nbformat": 4,
 "nbformat_minor": 2
}