{
 "cells": [
  {
   "cell_type": "code",
   "execution_count": 1,
   "metadata": {},
   "outputs": [],
   "source": [
    "import pandas as pd\n",
    "import math\n",
    "from sklearn.model_selection import train_test_split\n",
    "import random\n",
    "from operator import itemgetter"
   ]
  },
  {
   "cell_type": "markdown",
   "metadata": {},
   "source": [
    "## 加载数据\n"
   ]
  },
  {
   "cell_type": "code",
   "execution_count": 2,
   "metadata": {},
   "outputs": [
    {
     "name": "stderr",
     "output_type": "stream",
     "text": [
      "C:\\Users\\SUPERWISE\\Anaconda3\\lib\\site-packages\\ipykernel_launcher.py:1: ParserWarning: Falling back to the 'python' engine because the 'c' engine does not support regex separators (separators > 1 char and different from '\\s+' are interpreted as regex); you can avoid this warning by specifying engine='python'.\n",
      "  \"\"\"Entry point for launching an IPython kernel.\n"
     ]
    },
    {
     "data": {
      "text/html": [
       "<div>\n",
       "<style scoped>\n",
       "    .dataframe tbody tr th:only-of-type {\n",
       "        vertical-align: middle;\n",
       "    }\n",
       "\n",
       "    .dataframe tbody tr th {\n",
       "        vertical-align: top;\n",
       "    }\n",
       "\n",
       "    .dataframe thead th {\n",
       "        text-align: right;\n",
       "    }\n",
       "</style>\n",
       "<table border=\"1\" class=\"dataframe\">\n",
       "  <thead>\n",
       "    <tr style=\"text-align: right;\">\n",
       "      <th></th>\n",
       "      <th>user_id</th>\n",
       "      <th>movie_id</th>\n",
       "      <th>rating</th>\n",
       "      <th>timestamp</th>\n",
       "    </tr>\n",
       "  </thead>\n",
       "  <tbody>\n",
       "    <tr>\n",
       "      <th>0</th>\n",
       "      <td>1</td>\n",
       "      <td>661</td>\n",
       "      <td>3</td>\n",
       "      <td>978302109</td>\n",
       "    </tr>\n",
       "    <tr>\n",
       "      <th>1</th>\n",
       "      <td>1</td>\n",
       "      <td>914</td>\n",
       "      <td>3</td>\n",
       "      <td>978301968</td>\n",
       "    </tr>\n",
       "    <tr>\n",
       "      <th>2</th>\n",
       "      <td>1</td>\n",
       "      <td>3408</td>\n",
       "      <td>4</td>\n",
       "      <td>978300275</td>\n",
       "    </tr>\n",
       "    <tr>\n",
       "      <th>3</th>\n",
       "      <td>1</td>\n",
       "      <td>2355</td>\n",
       "      <td>5</td>\n",
       "      <td>978824291</td>\n",
       "    </tr>\n",
       "    <tr>\n",
       "      <th>4</th>\n",
       "      <td>1</td>\n",
       "      <td>1197</td>\n",
       "      <td>3</td>\n",
       "      <td>978302268</td>\n",
       "    </tr>\n",
       "  </tbody>\n",
       "</table>\n",
       "</div>"
      ],
      "text/plain": [
       "   user_id  movie_id  rating  timestamp\n",
       "0        1       661       3  978302109\n",
       "1        1       914       3  978301968\n",
       "2        1      3408       4  978300275\n",
       "3        1      2355       5  978824291\n",
       "4        1      1197       3  978302268"
      ]
     },
     "execution_count": 2,
     "metadata": {},
     "output_type": "execute_result"
    }
   ],
   "source": [
    "data = pd.read_csv('ml-1m/ratings.dat',sep='::')\n",
    "data.columns=['user_id','movie_id','rating','timestamp']\n",
    "data =data.head(100000)\n",
    "data.head()"
   ]
  },
  {
   "cell_type": "markdown",
   "metadata": {},
   "source": [
    "## 分割测试集和训练集\n",
    "M:划分的数目，最后需要取M折的平均\n",
    "k：本次是第几次划分，k~(0,M)\n",
    "seed:random的种子数，对于不同的k应设置成一样的"
   ]
  },
  {
   "cell_type": "code",
   "execution_count": 3,
   "metadata": {},
   "outputs": [],
   "source": [
    "def SplitData(M,k,seed=2019):\n",
    "    test=[]\n",
    "    train = []\n",
    "    random.seed(seed) \n",
    "    def func_appl(x,M,k):\n",
    "        if random.randint(0,M-1) == k:\n",
    "            test.append([x['user_id'],x['movie_id']])\n",
    "        else:\n",
    "            train.append([x['user_id'],x['movie_id']])\n",
    "    data.apply(lambda x:func_appl(x,M,k),axis=1)\n",
    "    return train,test        "
   ]
  },
  {
   "cell_type": "code",
   "execution_count": 4,
   "metadata": {},
   "outputs": [],
   "source": [
    "def convert_dict(data):\n",
    "    data_dict = {}\n",
    "    for user,item in data:\n",
    "        if user not in data_dict:\n",
    "            data_dict[user] = set()\n",
    "        data_dict[user].add(item)\n",
    "    data_dict={k:list(data_dict[k])for k in data_dict}\n",
    "    return data_dict"
   ]
  },
  {
   "cell_type": "markdown",
   "metadata": {},
   "source": [
    "## 测评指标\n",
    "1. Recall\n",
    "2. Precision\n",
    "3. Coverage\n",
    "4. Popularity"
   ]
  },
  {
   "cell_type": "code",
   "execution_count": 5,
   "metadata": {},
   "outputs": [],
   "source": [
    "class Eval():\n",
    "    def __init__(self, train, test, GetRecommendation,N):\n",
    "        self.train = train\n",
    "        self.test = test\n",
    "        self.GetRecommendation = GetRecommendation\n",
    "        self.N =N\n",
    "\n",
    "    def Recall(self):\n",
    "        hit = 0\n",
    "        all = 0\n",
    "        for user,items in self.test.items():\n",
    "            tu = items\n",
    "            rank = self.GetRecommendation(user, self.N)\n",
    "            for item,pui in rank:\n",
    "                if item in tu:\n",
    "                    hit += 1\n",
    "            all += len(tu)\n",
    "        return round(hit / (all * 1.0), 2)\n",
    "\n",
    "    def Precision(self):\n",
    "        hit = 0\n",
    "        all = 0\n",
    "        for user in self.test.keys():\n",
    "            tu = set(self.test[user])\n",
    "            rank = self.GetRecommendation(user, self.N)\n",
    "            for item,pui in rank:\n",
    "                if item in tu:\n",
    "                    hit += 1\n",
    "            all += self.N\n",
    "        return round(hit / (all * 1.0), 2)\n",
    "    \n",
    "    def Coverage(self):\n",
    "        recommend_items = set()\n",
    "        all_items = set()\n",
    "        for user in self.test.keys():\n",
    "            for item in self.train[user]:\n",
    "                all_items.add(item)\n",
    "            rank = self.GetRecommendation(user, self.N)\n",
    "            for item,pui in rank:\n",
    "                recommend_items.add(item)\n",
    "        return round(len(recommend_items) / (len(all_items) * 1.0),2)\n",
    "\n",
    "    def Popularity(self):\n",
    "        item_pop = dict()\n",
    "        for user, items in self.train.items():\n",
    "            for item in items:\n",
    "                if item not in item_pop:\n",
    "                    item_pop[item] = 0\n",
    "                else:\n",
    "                    item_pop[item] += 1\n",
    "        ret = 0\n",
    "        n = 0\n",
    "        for user in self.test.keys():\n",
    "            rank =self. GetRecommendation(user, self.N)\n",
    "            for item,pui in rank:\n",
    "                ret += math.log(1 + item_pop[item])\n",
    "                n += 1\n",
    "        ret /= n * 1.0\n",
    "        return round(ret,2)\n",
    "\n",
    "    def eval(self):\n",
    "        metric = {'Precision': self.Precision(),\n",
    "                  'Recall': self.Recall(),\n",
    "                  'Coverage': self.Coverage(),\n",
    "                  'Popularity': self.Popularity()}\n",
    "        print('Metric:', metric)\n",
    "        return metric"
   ]
  },
  {
   "cell_type": "markdown",
   "metadata": {},
   "source": [
    "## 基于邻域的算法\n",
    "\n",
    "1. 基于用户的协同过滤\n",
    "2. 基于物品的协同过滤"
   ]
  },
  {
   "cell_type": "code",
   "execution_count": 6,
   "metadata": {},
   "outputs": [],
   "source": [
    "def UserCF(train,K):    \n",
    "    item_user = dict()\n",
    "    for user,items in train.items():\n",
    "        for item in items:\n",
    "            if item not in item_user:\n",
    "                item_user[item]=set()\n",
    "            item_user[item].add(user)\n",
    "    N=dict()\n",
    "    C=dict()\n",
    "    for item,users in item_user.items():\n",
    "        for u in users:\n",
    "            if u not in N:\n",
    "                N[u]=0\n",
    "            N[u]+=1\n",
    "            if u not in C:\n",
    "                C[u]=dict()\n",
    "            for v in users:\n",
    "                if u==v:\n",
    "                    continue               \n",
    "                if v not in C[u]:\n",
    "                    C[u][v]=0\n",
    "                C[u][v]+=1\n",
    "    Sim=dict()\n",
    "    for u,related_user in C.items():\n",
    "        if u not in Sim:\n",
    "            Sim[u]=dict()\n",
    "        for v,cuv in related_user.items():           \n",
    "            Sim[u][v]=cuv/math.sqrt(N[u]*N[v])\n",
    "    print(Sim)        \n",
    "    def GetRecommendation(user,n):\n",
    "        rank = dict()\n",
    "        interacted_items = set(train[user])\n",
    "        for v,wuv in sorted(Sim[user].items(),key=itemgetter(1),reverse=True)[0:K]:\n",
    "            for i in train[v]:\n",
    "                if i not in interacted_items:\n",
    "                    if i not in rank:\n",
    "                        rank[i]=0\n",
    "                    rank[i] += wuv\n",
    "        rank = sorted(rank.items(),key=itemgetter(1),reverse=True)[0:n]\n",
    "        return rank\n",
    "        \n",
    "    return GetRecommendation  "
   ]
  },
  {
   "cell_type": "markdown",
   "metadata": {},
   "source": [
    "## 用户相似度计算改进 "
   ]
  },
  {
   "cell_type": "code",
   "execution_count": 7,
   "metadata": {},
   "outputs": [],
   "source": [
    "def UserCFII(train,K):\n",
    "    \n",
    "    item_user = dict()\n",
    "    for user,items in train.items():\n",
    "        for item in items:\n",
    "            if item not in item_user:\n",
    "                item_user[item]=set()\n",
    "            item_user[item].add(user)\n",
    "    N=dict()\n",
    "    C=dict()\n",
    "    for item,users in item_user.items():\n",
    "        for u in users:\n",
    "            if u not in N:\n",
    "                N[u]=0\n",
    "            N[u]+=1\n",
    "            if u not in C:\n",
    "                C[u]=dict()\n",
    "            for v in users:\n",
    "                if u==v:\n",
    "                    continue    \n",
    "                if v not in C[u]:\n",
    "                    C[u][v]=0\n",
    "                C[u][v]+=1/math.log(1+len(users))\n",
    "    Sim=dict()\n",
    "    for u,related_user in C.items():\n",
    "        for v,cuv in related_user.items():\n",
    "            if u not in Sim:\n",
    "                Sim[u]=dict()\n",
    "            Sim[u][v]=cuv/math.sqrt(N[u]*N[v])\n",
    "            \n",
    "    def GetRecommendation(user,n):\n",
    "        rank = dict()\n",
    "        interacted_items = set(train[user])\n",
    "        for v,wuv in sorted(Sim[user].items(),key=itemgetter(1),reverse=True)[0:K]:\n",
    "            for i in train[v]:\n",
    "                if i not in interacted_items:\n",
    "                    if i not in rank:\n",
    "                        rank[i]=0\n",
    "                    rank[i] += wuv\n",
    "        rank = sorted(rank.items(),key=itemgetter(1),reverse=True)[0:n]\n",
    "        return rank\n",
    "        \n",
    "    return GetRecommendation  "
   ]
  },
  {
   "cell_type": "markdown",
   "metadata": {},
   "source": [
    "## UserCF实验 "
   ]
  },
  {
   "cell_type": "code",
   "execution_count": 8,
   "metadata": {},
   "outputs": [
    {
     "name": "stdout",
     "output_type": "stream",
     "text": [
      "Metric: {'Precision': 0.21, 'Recall': 0.11, 'Coverage': 0.08, 'Popularity': 5.27}\n",
      "Metric: {'Precision': 0.2, 'Recall': 0.11, 'Coverage': 0.08, 'Popularity': 5.27}\n",
      "Metric: {'Precision': 0.21, 'Recall': 0.11, 'Coverage': 0.08, 'Popularity': 5.28}\n",
      "Metric: {'Precision': 0.2, 'Recall': 0.11, 'Coverage': 0.07, 'Popularity': 5.28}\n",
      "Metric: {'Precision': 0.21, 'Recall': 0.11, 'Coverage': 0.08, 'Popularity': 5.26}\n",
      "Metric: {'Precision': 0.2, 'Recall': 0.11, 'Coverage': 0.08, 'Popularity': 5.27}\n",
      "Metric: {'Precision': 0.21, 'Recall': 0.11, 'Coverage': 0.07, 'Popularity': 5.27}\n",
      "Metric: {'Precision': 0.19, 'Recall': 0.1, 'Coverage': 0.08, 'Popularity': 5.27}\n"
     ]
    }
   ],
   "source": [
    "M=8\n",
    "K=80\n",
    "N=10\n",
    "metrics = {'Precision': 0, 'Recall': 0, \n",
    "           'Coverage': 0, 'Popularity': 0}\n",
    "for i in range(M):\n",
    "    train,test = SplitData(M,i)\n",
    "    train = convert_dict(train)\n",
    "    test = convert_dict(test)\n",
    "#     GetRecommendation = UserCF(train,K)\n",
    "    GetRecommendation2 = UserCFII(train,K)\n",
    "#     eval = Eval(train,test,GetRecommendation,N)\n",
    "    eval2 = Eval(train,test,GetRecommendation2,N)\n",
    "    metric = eval2.eval()\n",
    "    metrics = {k: metrics[k]+metric[k] for k in metrics}\n",
    "\n",
    "metrics = {k: metrics[k] / M for k in metrics}"
   ]
  },
  {
   "cell_type": "markdown",
   "metadata": {},
   "source": [
    "## 基于物品的协同过滤 "
   ]
  },
  {
   "cell_type": "code",
   "execution_count": 9,
   "metadata": {},
   "outputs": [],
   "source": [
    "def ItemCF(train,K):\n",
    "    N=dict()\n",
    "    C=dict()\n",
    "    for user,items in train.items():\n",
    "        for i in items:\n",
    "            if i not in N:\n",
    "                N[i]=0\n",
    "            N[i]+=1\n",
    "            if i not in C:\n",
    "                C[i]=dict()\n",
    "            for j in items:\n",
    "                if j==i:\n",
    "                    continue\n",
    "                if j not in C[i]:\n",
    "                    C[i][j]=0\n",
    "                C[i][j]+=1\n",
    "    W=dict()\n",
    "    for i,related_items in C.items():\n",
    "        if i not in W:\n",
    "            W[i]=dict()\n",
    "        for j,cij in related_items.items():\n",
    "            W[i][j]=cij/math.sqrt(N[i]*N[j])\n",
    "    def GetRecommendation(user,n):\n",
    "        rank =dict()\n",
    "        ru=set(train[user])\n",
    "        for i,ri in W.items():\n",
    "            for j,wij in sorted(W[i].items(),key=itemgetter(1),reverse=True)[0:K]:\n",
    "                if j not in ru:\n",
    "                    if j not in rank:\n",
    "                            rank[j]=0     \n",
    "                    rank[j]+=wij\n",
    "        rank = sorted(rank.items(),key=itemgetter(1),reverse=True)[0:n]\n",
    "        return rank\n",
    "    return GetRecommendation\n",
    "        "
   ]
  },
  {
   "cell_type": "markdown",
   "metadata": {},
   "source": [
    "## 物品相似度改进计算 "
   ]
  },
  {
   "cell_type": "code",
   "execution_count": 10,
   "metadata": {},
   "outputs": [],
   "source": [
    "def ItemCFII(train,K):\n",
    "    N=dict()\n",
    "    C=dict()\n",
    "    for user,items in train.items():\n",
    "        for i in items:\n",
    "            if i not in N:\n",
    "                N[i]=0\n",
    "            N[i]+=1\n",
    "            if i not in C:\n",
    "                C[i]=dict()\n",
    "            for j in items:\n",
    "                if j==i:\n",
    "                    continue\n",
    "                if j not in C[i]:\n",
    "                    C[i][j]=0\n",
    "                C[i][j]+=1/math.log(1+len(items)*1.0)\n",
    "    W=dict()\n",
    "    for i,related_items in C.items():\n",
    "        if i not in W:\n",
    "            W[i]=dict()\n",
    "        for j,cij in related_items.items():\n",
    "            W[i][j]=cij/math.sqrt(N[i]*N[j])\n",
    "    def GetRecommendation(user,n):\n",
    "        rank=dict()\n",
    "        ru=set(train[user])\n",
    "        for i,rui in W.items():\n",
    "            for j,wij in sorted(W[i].items(),key=itemgetter(1),reverse=True)[0:K]:\n",
    "                if j not in ru:\n",
    "                    if j not in rank:\n",
    "                        rank[j]=0\n",
    "                    rank[j]+=wij\n",
    "        return sorted(rank.items(),key=itemgetter(1),reverse=True)[0:n]\n",
    "    return GetRecommendation"
   ]
  },
  {
   "cell_type": "code",
   "execution_count": 11,
   "metadata": {},
   "outputs": [
    {
     "name": "stdout",
     "output_type": "stream",
     "text": [
      "Metric: {'Precision': 0.0, 'Recall': 0.0, 'Coverage': 0.01, 'Popularity': 0.39}\n",
      "Metric: {'Precision': 0.01, 'Recall': 0.0, 'Coverage': 0.01, 'Popularity': 1.16}\n",
      "Metric: {'Precision': 0.02, 'Recall': 0.01, 'Coverage': 0.01, 'Popularity': 2.62}\n",
      "Metric: {'Precision': 0.04, 'Recall': 0.02, 'Coverage': 0.01, 'Popularity': 4.54}\n",
      "Metric: {'Precision': 0.05, 'Recall': 0.03, 'Coverage': 0.02, 'Popularity': 4.73}\n",
      "Metric: {'Precision': 0.05, 'Recall': 0.03, 'Coverage': 0.02, 'Popularity': 4.77}\n",
      "Metric: {'Precision': 0.06, 'Recall': 0.03, 'Coverage': 0.02, 'Popularity': 4.76}\n",
      "Metric: {'Precision': 0.06, 'Recall': 0.03, 'Coverage': 0.02, 'Popularity': 4.76}\n"
     ]
    },
    {
     "data": {
      "text/plain": [
       "{'Precision': 0.036250000000000004,\n",
       " 'Recall': 0.01875,\n",
       " 'Coverage': 0.015000000000000001,\n",
       " 'Popularity': 3.4662499999999996}"
      ]
     },
     "execution_count": 11,
     "metadata": {},
     "output_type": "execute_result"
    }
   ],
   "source": [
    "M=8\n",
    "N=10\n",
    "metrics = {'Precision': 0, 'Recall': 0, \n",
    "           'Coverage': 0, 'Popularity': 0}\n",
    "for K in range(10,90,10):\n",
    "    train,test = SplitData(M,0)\n",
    "    train = convert_dict(train)\n",
    "    test = convert_dict(test)\n",
    "    GetRecommendation = ItemCF(train,K)   \n",
    "    eval = Eval(train,test,GetRecommendation,N)\n",
    "    metric = eval.eval()\n",
    "    metrics = {k: metrics[k]+metric[k] for k in metrics}\n",
    "metrics = {k: metrics[k] / M for k in metrics}\n",
    "metrics"
   ]
  },
  {
   "cell_type": "code",
   "execution_count": 12,
   "metadata": {},
   "outputs": [
    {
     "name": "stdout",
     "output_type": "stream",
     "text": [
      "Metric: {'Precision': 0.09, 'Recall': 0.05, 'Coverage': 0.02, 'Popularity': 5.15}\n"
     ]
    },
    {
     "data": {
      "text/plain": [
       "{'Precision': 0.01125,\n",
       " 'Recall': 0.00625,\n",
       " 'Coverage': 0.0025,\n",
       " 'Popularity': 0.64375}"
      ]
     },
     "execution_count": 12,
     "metadata": {},
     "output_type": "execute_result"
    }
   ],
   "source": [
    "M=8\n",
    "N=10\n",
    "metrics = {'Precision': 0, 'Recall': 0, \n",
    "           'Coverage': 0, 'Popularity': 0}\n",
    "GetRecommendation2 = ItemCFII(train,80)\n",
    "eval2 = Eval(train,test,GetRecommendation2,N)\n",
    "metric = eval2.eval()\n",
    "metrics = {k: metrics[k]+metric[k] for k in metrics}\n",
    "metrics = {k: metrics[k] / M for k in metrics}\n",
    "metrics"
   ]
  },
  {
   "cell_type": "markdown",
   "metadata": {},
   "source": [
    "## 物品相似度计算归一化 "
   ]
  },
  {
   "cell_type": "code",
   "execution_count": 15,
   "metadata": {},
   "outputs": [],
   "source": [
    "def ItemCF_Norm(train,K):\n",
    "    N=dict()\n",
    "    C=dict()\n",
    "    for user,items in train.items():\n",
    "        for i in items:\n",
    "            if i not in N:\n",
    "                N[i]=0\n",
    "            N[i]+=1\n",
    "            if i not in C:\n",
    "                C[i]=dict()\n",
    "            for j in items:\n",
    "                if j==i:\n",
    "                    continue\n",
    "                if j not in C[i]:\n",
    "                    C[i][j]=0\n",
    "                C[i][j]+=1/math.log(1+len(items)*1.0)\n",
    "    W=dict()\n",
    "    for i,related_items in C.items():\n",
    "        if i not in W:\n",
    "            W[i]=dict()\n",
    "        for j,cij in related_items.items():\n",
    "            W[i][j]=cij/math.sqrt(N[i]*N[j])\n",
    "    for i in W:\n",
    "        s=0\n",
    "        for j in W[i]:\n",
    "            s+=W[i][j]\n",
    "        if s!=0:\n",
    "            for j in W[i]:\n",
    "                W[i][j]/=s\n",
    "    def GetRecommendation(user,n):\n",
    "        rank = dict()\n",
    "        ru =train[user]\n",
    "        for i,rui in W.items():\n",
    "            for j ,wij in sorted(W[i].items(),key=itemgetter(1),reverse=True)[0:K]:\n",
    "                if j not in ru:\n",
    "                    if j not in rank:\n",
    "                        rank[j]=0\n",
    "                    rank[j]+=wij\n",
    "        return sorted(rank.items(),key=itemgetter(1),reverse=True)[0:n]\n",
    "    return GetRecommendation"
   ]
  },
  {
   "cell_type": "code",
   "execution_count": 16,
   "metadata": {},
   "outputs": [
    {
     "name": "stdout",
     "output_type": "stream",
     "text": [
      "Metric: {'Precision': 0.0, 'Recall': 0.0, 'Coverage': 0.01, 'Popularity': 1.21}\n"
     ]
    }
   ],
   "source": [
    "M=8\n",
    "N=10\n",
    "metrics = {'Precision': 0, 'Recall': 0, \n",
    "           'Coverage': 0, 'Popularity': 0}\n",
    "GetRecommendation3 = ItemCF_Norm(train,K)\n",
    "eval3 = Eval(train,test,GetRecommendation3,N)\n",
    "metric = eval3.eval()\n",
    "metrics = {k: metrics[k]+metric[k] for k in metrics}\n",
    "metrics = {k: metrics[k] / M for k in metrics}"
   ]
  },
  {
   "cell_type": "code",
   "execution_count": null,
   "metadata": {},
   "outputs": [],
   "source": []
  }
 ],
 "metadata": {
  "kernelspec": {
   "display_name": "Python 3",
   "language": "python",
   "name": "python3"
  },
  "language_info": {
   "codemirror_mode": {
    "name": "ipython",
    "version": 3
   },
   "file_extension": ".py",
   "mimetype": "text/x-python",
   "name": "python",
   "nbconvert_exporter": "python",
   "pygments_lexer": "ipython3",
   "version": "3.5.6"
  }
 },
 "nbformat": 4,
 "nbformat_minor": 2
}
