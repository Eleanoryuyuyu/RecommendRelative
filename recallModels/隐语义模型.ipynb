{
 "cells": [
  {
   "cell_type": "code",
   "execution_count": 1,
   "metadata": {},
   "outputs": [],
   "source": [
    "import pandas as pd\n",
    "import math\n",
    "import random\n",
    "from operator import itemgetter\n",
    "import numpy as np"
   ]
  },
  {
   "cell_type": "markdown",
   "metadata": {},
   "source": [
    "## 加载数据集 "
   ]
  },
  {
   "cell_type": "code",
   "execution_count": 2,
   "metadata": {},
   "outputs": [
    {
     "name": "stderr",
     "output_type": "stream",
     "text": [
      "C:\\Users\\SUPERWISE\\Anaconda3\\lib\\site-packages\\ipykernel_launcher.py:1: ParserWarning: Falling back to the 'python' engine because the 'c' engine does not support regex separators (separators > 1 char and different from '\\s+' are interpreted as regex); you can avoid this warning by specifying engine='python'.\n",
      "  \"\"\"Entry point for launching an IPython kernel.\n"
     ]
    },
    {
     "data": {
      "text/html": [
       "<div>\n",
       "<style scoped>\n",
       "    .dataframe tbody tr th:only-of-type {\n",
       "        vertical-align: middle;\n",
       "    }\n",
       "\n",
       "    .dataframe tbody tr th {\n",
       "        vertical-align: top;\n",
       "    }\n",
       "\n",
       "    .dataframe thead th {\n",
       "        text-align: right;\n",
       "    }\n",
       "</style>\n",
       "<table border=\"1\" class=\"dataframe\">\n",
       "  <thead>\n",
       "    <tr style=\"text-align: right;\">\n",
       "      <th></th>\n",
       "      <th>user_id</th>\n",
       "      <th>movie_id</th>\n",
       "      <th>rating</th>\n",
       "      <th>timestamp</th>\n",
       "    </tr>\n",
       "  </thead>\n",
       "  <tbody>\n",
       "    <tr>\n",
       "      <th>0</th>\n",
       "      <td>1</td>\n",
       "      <td>661</td>\n",
       "      <td>3</td>\n",
       "      <td>978302109</td>\n",
       "    </tr>\n",
       "    <tr>\n",
       "      <th>1</th>\n",
       "      <td>1</td>\n",
       "      <td>914</td>\n",
       "      <td>3</td>\n",
       "      <td>978301968</td>\n",
       "    </tr>\n",
       "    <tr>\n",
       "      <th>2</th>\n",
       "      <td>1</td>\n",
       "      <td>3408</td>\n",
       "      <td>4</td>\n",
       "      <td>978300275</td>\n",
       "    </tr>\n",
       "    <tr>\n",
       "      <th>3</th>\n",
       "      <td>1</td>\n",
       "      <td>2355</td>\n",
       "      <td>5</td>\n",
       "      <td>978824291</td>\n",
       "    </tr>\n",
       "    <tr>\n",
       "      <th>4</th>\n",
       "      <td>1</td>\n",
       "      <td>1197</td>\n",
       "      <td>3</td>\n",
       "      <td>978302268</td>\n",
       "    </tr>\n",
       "  </tbody>\n",
       "</table>\n",
       "</div>"
      ],
      "text/plain": [
       "   user_id  movie_id  rating  timestamp\n",
       "0        1       661       3  978302109\n",
       "1        1       914       3  978301968\n",
       "2        1      3408       4  978300275\n",
       "3        1      2355       5  978824291\n",
       "4        1      1197       3  978302268"
      ]
     },
     "execution_count": 2,
     "metadata": {},
     "output_type": "execute_result"
    }
   ],
   "source": [
    "data = pd.read_csv('ml-1m/ratings.dat',sep='::')\n",
    "data.columns=['user_id','movie_id','rating','timestamp']\n",
    "data.head()"
   ]
  },
  {
   "cell_type": "code",
   "execution_count": 3,
   "metadata": {},
   "outputs": [],
   "source": [
    "def SplitData(data,M,k,seed=2019):\n",
    "    test=[]\n",
    "    train = []\n",
    "    random.seed(seed) \n",
    "    def func_appl(x,M,k):\n",
    "        if random.randint(0,M-1) == k:\n",
    "            test.append([x['user_id'],x['movie_id']])\n",
    "        else:\n",
    "            train.append([x['user_id'],x['movie_id']])\n",
    "    data.apply(lambda x:func_appl(x,M,k),axis=1)\n",
    "    \n",
    "    def convert_dict(data):\n",
    "        data_dict = dict()\n",
    "        for user,item in data:\n",
    "            if user not in data_dict:\n",
    "                data_dict[user] = set()\n",
    "            data_dict[user].add(item)\n",
    "        data_dict={k:list(data_dict[k])for k in data_dict}\n",
    "        return data_dict\n",
    "    return convert_dict(train),convert_dict(test)"
   ]
  },
  {
   "cell_type": "markdown",
   "metadata": {},
   "source": [
    "## 评价指标\n",
    "1. 召回率\n",
    "2. 精确度\n",
    "3. 覆盖率\n",
    "4. 流行度"
   ]
  },
  {
   "cell_type": "code",
   "execution_count": 4,
   "metadata": {},
   "outputs": [],
   "source": [
    "class Eval():\n",
    "    def __init__(self, train, test, GetRecommendation,N):\n",
    "        self.train = train\n",
    "        self.test = test\n",
    "        self.GetRecommendation = GetRecommendation\n",
    "        self.N =N\n",
    "\n",
    "    def Recall(self):\n",
    "        hit = 0\n",
    "        all = 0\n",
    "        for user,items in self.test.items():\n",
    "            tu = items\n",
    "            rank = self.GetRecommendation(user, self.N)\n",
    "            for item,pui in rank:\n",
    "                if item in tu:\n",
    "                    hit += 1\n",
    "            all += len(tu)\n",
    "        return round(hit / (all * 1.0), 2)\n",
    "\n",
    "    def Precision(self):\n",
    "        hit = 0\n",
    "        all = 0\n",
    "        for user in self.test.keys():\n",
    "            tu = set(self.test[user])\n",
    "            rank = self.GetRecommendation(user, self.N)\n",
    "            for item,pui in rank:\n",
    "                if item in tu:\n",
    "                    hit += 1\n",
    "            all += self.N\n",
    "        return round(hit / (all * 1.0), 2)\n",
    "    \n",
    "    def Coverage(self):\n",
    "        recommend_items = set()\n",
    "        all_items = set()\n",
    "        for user in self.test.keys():\n",
    "            for item in self.train[user]:\n",
    "                all_items.add(item)\n",
    "            rank = self.GetRecommendation(user, self.N)\n",
    "            for item,pui in rank:\n",
    "                recommend_items.add(item)\n",
    "        return round(len(recommend_items) / (len(all_items) * 1.0),2)\n",
    "\n",
    "    def Popularity(self):\n",
    "        item_pop = dict()\n",
    "        for user, items in self.train.items():\n",
    "            for item in items:\n",
    "                if item not in item_pop:\n",
    "                    item_pop[item] = 0\n",
    "                else:\n",
    "                    item_pop[item] += 1\n",
    "        ret = 0\n",
    "        n = 0\n",
    "        for user in self.test.keys():\n",
    "            rank =self. GetRecommendation(user, self.N)\n",
    "            for item,pui in rank:\n",
    "                ret += math.log(1 + item_pop[item])\n",
    "                n += 1\n",
    "        ret /= n * 1.0\n",
    "        return round(ret,2)\n",
    "\n",
    "    def eval(self):\n",
    "        metric = {'Precision': self.Precision(),\n",
    "                  'Recall': self.Recall(),\n",
    "                  'Coverage': self.Coverage(),\n",
    "                  'Popularity': self.Popularity()}\n",
    "        print('Metric:', metric)\n",
    "        return metric"
   ]
  },
  {
   "cell_type": "code",
   "execution_count": 5,
   "metadata": {},
   "outputs": [],
   "source": [
    "def LFM(train,F,N,alpha,lr):\n",
    "    all_items=dict()\n",
    "    for user,items in train.items():\n",
    "        for item in items:\n",
    "            if item not in all_items:\n",
    "                all_items[item]=0\n",
    "            all_items[item]+=1\n",
    "    all_items = list(all_items.items())\n",
    "    item_list = [x[0] for x in all_items]\n",
    "    pop_list = [x[1] for x in all_items]\n",
    "    \n",
    "    def RandomSelectNegativeSample(train):\n",
    "        ret = dict()\n",
    "        for user,items in train.items():\n",
    "            if user not in ret:\n",
    "                ret[user]=dict()\n",
    "            for i in items:\n",
    "                ret[user][i]=1\n",
    "            n=0\n",
    "            selected_items = np.random.choice(item_list,len(items)*3,pop_list)\n",
    "            for i in selected_items:\n",
    "                if i not in items:\n",
    "                    ret[user][i]=0\n",
    "                n+=1\n",
    "                if n>len(items):\n",
    "                    break\n",
    "        return ret\n",
    "    P=dict()\n",
    "    Q=dict()\n",
    "#     P = np.random.random((len(train.keys()),F)\n",
    "#     Q = np.random.random((F,len(item_list)))                     \n",
    "    for user in train:\n",
    "        P[user] = np.random.random(F)\n",
    "    for item in item_list:\n",
    "        Q[item] = np.random.random(F)\n",
    "    for step in range(0,N):\n",
    "        samples = RandomSelectNegativeSample(train)\n",
    "        for user,items in samples.items():\n",
    "            for item, rui in items.items():\n",
    "                eui = rui-(P[user]*Q[item]).sum()\n",
    "                P[user]+=alpha*(eui*Q[item]-lr*P[user])\n",
    "                Q[item]+=alpha*(eui*P[user]-lr*Q[item])\n",
    "        alpha *= 0.9\n",
    "    \n",
    "    def GetRecommendation(user,n):\n",
    "        rank=dict()\n",
    "        ru=train[user]\n",
    "        for u,puf in P.items():\n",
    "            for i,qif in Q.items():\n",
    "                if i not in ru:\n",
    "                    if i not in rank:\n",
    "                        rank[i]=0\n",
    "                    rank[i]+=(puf*qif).sum()\n",
    "        return sorted(rank.items(),key=itemgetter(1),reverse=True)[0:n]\n",
    "    return GetRecommendation\n",
    "            \n",
    "        "
   ]
  },
  {
   "cell_type": "code",
   "execution_count": null,
   "metadata": {},
   "outputs": [],
   "source": [
    "F=100\n",
    "N=100\n",
    "alpha=0.02\n",
    "lr =0.01\n",
    "M=8\n",
    "metrics = {'Precision': 0, 'Recall': 0, \n",
    "           'Coverage': 0, 'Popularity': 0}\n",
    "for i in range(M):\n",
    "    train,test = SplitData(data,M,i)\n",
    "    GetRecommendation = LFM(train,F,N,alpha,lr)\n",
    "    e = Eval(train,test,GetRecommendation,10)\n",
    "    metric=e.eval()\n",
    "    metrics={k: metrics[k]+metric[k] for k in metrics}\n",
    "metrics={k: metrics[k]/M for k in metrics}\n",
    "metrics"
   ]
  },
  {
   "cell_type": "code",
   "execution_count": 15,
   "metadata": {},
   "outputs": [
    {
     "name": "stdout",
     "output_type": "stream",
     "text": [
      "Metric: {'Precision': 0.1, 'Recall': 0.05, 'Coverage': 0.02, 'Popularity': 5.39}\n"
     ]
    },
    {
     "data": {
      "text/plain": [
       "{'Precision': 0.1, 'Recall': 0.05, 'Coverage': 0.02, 'Popularity': 5.39}"
      ]
     },
     "execution_count": 15,
     "metadata": {},
     "output_type": "execute_result"
    }
   ],
   "source": [
    "e = Eval(train,test,GetRecommendation,10)\n",
    "e.eval()"
   ]
  },
  {
   "cell_type": "code",
   "execution_count": null,
   "metadata": {},
   "outputs": [],
   "source": []
  }
 ],
 "metadata": {
  "kernelspec": {
   "display_name": "Python 3",
   "language": "python",
   "name": "python3"
  },
  "language_info": {
   "codemirror_mode": {
    "name": "ipython",
    "version": 3
   },
   "file_extension": ".py",
   "mimetype": "text/x-python",
   "name": "python",
   "nbconvert_exporter": "python",
   "pygments_lexer": "ipython3",
   "version": "3.7.1"
  }
 },
 "nbformat": 4,
 "nbformat_minor": 2
}
